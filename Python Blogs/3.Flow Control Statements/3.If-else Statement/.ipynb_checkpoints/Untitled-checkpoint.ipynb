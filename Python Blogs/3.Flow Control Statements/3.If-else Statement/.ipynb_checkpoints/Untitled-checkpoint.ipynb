{
 "cells": [
  {
   "cell_type": "markdown",
   "metadata": {},
   "source": [
    "# FlowControl - If-else Statement"
   ]
  },
  {
   "cell_type": "markdown",
   "metadata": {},
   "source": [
    "### If-else Statement:\n",
    "- ' if ' statement checks that the condition is  True or not , and if its True then it executes the indented block of code, else it will execute the statement in ‘else’ block\n"
   ]
  },
  {
   "cell_type": "markdown",
   "metadata": {},
   "source": [
    "**Syntax:**\n",
    "- if(condition):\n",
    "    - Statment1\n",
    "- else:\n",
    "  - Statment2\n"
   ]
  },
  {
   "cell_type": "code",
   "execution_count": 1,
   "metadata": {},
   "outputs": [
    {
     "name": "stdout",
     "output_type": "stream",
     "text": [
      "Username : Mrityunjay Kumar\n",
      "Enter your password : Pandey\n",
      "Wrong password\n"
     ]
    }
   ],
   "source": [
    "#Program on If-else Statement.    CASE1\n",
    "\n",
    "print(\"Username : Mrityunjay Kumar\")\n",
    "password=input(\"Enter your password : \")\n",
    "if password.lower()=='anshuman':\n",
    "    print(\"Access granted.\\nHi \"+ password+\",Welcome to the Python Programing.\")\n",
    "else:\n",
    "    print(\"Wrong password\")\n"
   ]
  },
  {
   "cell_type": "code",
   "execution_count": 3,
   "metadata": {},
   "outputs": [
    {
     "name": "stdout",
     "output_type": "stream",
     "text": [
      "Username : Mrityunjay Kumar\n",
      "Enter your password : ANSHUMAN\n",
      "Access granted.\n",
      "HiANSHUMAN,Welcome to the Python Programing.\n"
     ]
    }
   ],
   "source": [
    "#Program on If-else Statement.    CASE2\n",
    "\n",
    "print(\"Username : Mrityunjay Kumar\")\n",
    "password=input(\"Enter your password : \")\n",
    "if password.lower()=='anshuman':\n",
    "    print(\"Access granted.\\nHi \"+ password+\",Welcome to the Python Programing.\")\n",
    "else:\n",
    "    print(\"Wrong password\")\n"
   ]
  },
  {
   "cell_type": "markdown",
   "metadata": {},
   "source": [
    "NOTE that password is lowercase anshuman and i had entered UPPERCASE ANSHUMAN"
   ]
  },
  {
   "cell_type": "markdown",
   "metadata": {},
   "source": [
    "![title](3.png)"
   ]
  },
  {
   "cell_type": "markdown",
   "metadata": {},
   "source": [
    "# Great Job"
   ]
  }
 ],
 "metadata": {
  "kernelspec": {
   "display_name": "Python 3",
   "language": "python",
   "name": "python3"
  },
  "language_info": {
   "codemirror_mode": {
    "name": "ipython",
    "version": 3
   },
   "file_extension": ".py",
   "mimetype": "text/x-python",
   "name": "python",
   "nbconvert_exporter": "python",
   "pygments_lexer": "ipython3",
   "version": "3.7.1"
  }
 },
 "nbformat": 4,
 "nbformat_minor": 4
}
