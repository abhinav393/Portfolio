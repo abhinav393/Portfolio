{
 "cells": [
  {
   "cell_type": "markdown",
   "metadata": {},
   "source": [
    "# Program for a Calculator"
   ]
  },
  {
   "cell_type": "code",
   "execution_count": 1,
   "metadata": {},
   "outputs": [
    {
     "name": "stdout",
     "output_type": "stream",
     "text": [
      "Enter 2 numbers: 5 7\n",
      "5  +  7  =  12\n",
      "5  -  7  =  -2\n",
      "5  *  7  =  35\n",
      "5  /  7  =  0.7142857142857143\n",
      "5  %  7  =  5\n"
     ]
    }
   ],
   "source": [
    "num1, num2 = input(\"Enter 2 numbers: \").split()\t#multiple assignment\n",
    "num1 = int(num1)\n",
    "num2 = int(num2)\n",
    "\n",
    "add = num1 + num2\n",
    "difference = num1 - num2\n",
    "product = num1 * num2\n",
    "quotient = num1 / num2\n",
    "remainder = num1 % num2\n",
    "\n",
    "print(num1, \" + \",num2, \" = \", add)\n",
    "print(num1, \" - \",num2, \" = \",difference)\n",
    "print(num1, \" * \" , num2, \" = \",product)\n",
    "print(num1, \" / \", num2, \" = \", quotient)\n",
    "print(num1, \" % \", num2, \" = \",remainder)\n"
   ]
  },
  {
   "cell_type": "markdown",
   "metadata": {},
   "source": [
    "# Great Job"
   ]
  }
 ],
 "metadata": {
  "kernelspec": {
   "display_name": "Python 3",
   "language": "python",
   "name": "python3"
  },
  "language_info": {
   "codemirror_mode": {
    "name": "ipython",
    "version": 3
   },
   "file_extension": ".py",
   "mimetype": "text/x-python",
   "name": "python",
   "nbconvert_exporter": "python",
   "pygments_lexer": "ipython3",
   "version": "3.7.1"
  }
 },
 "nbformat": 4,
 "nbformat_minor": 4
}
