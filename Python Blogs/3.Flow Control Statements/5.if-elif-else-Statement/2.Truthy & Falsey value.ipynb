{
 "cells": [
  {
   "cell_type": "markdown",
   "metadata": {},
   "source": [
    "# Program For Calculator with if-elif-else. "
   ]
  },
  {
   "cell_type": "code",
   "execution_count": 1,
   "metadata": {},
   "outputs": [
    {
     "name": "stdout",
     "output_type": "stream",
     "text": [
      "Enter 2 numbers: 5 7\n",
      "Enter operator:*\n",
      "5  *  7  =  35\n"
     ]
    }
   ],
   "source": [
    "num1, num2 = input(\"Enter 2 numbers: \").split()\n",
    "num1 = int(num1)\n",
    "num2 = int(num2)\n",
    "operator = input(\"Enter operator:\")\n",
    "if operator == '+':\n",
    "    add = num1 + num2\n",
    "    print(num1, \" + \",num2, \" = \", add)\n",
    "elif operator == '-':\n",
    "    difference = num1 -num2\n",
    "    print(num1, \" - \",num2, \" = \",difference)\n",
    "elif operator == '*':\n",
    "    product = num1 * num2\n",
    "    print(num1, \" * \" , num2, \" = \",product)\n",
    "elif operator == '/':\n",
    "    quotient = num1 / num2\n",
    "    print(num1, \" / \", num2, \" = \", quotient)\n",
    "elif operator == '%':\n",
    "    remainder = num1 % num2\n",
    "    print(num1, \" % \", num2, \" = \",remainder)\n",
    "else:\n",
    "    print(\"Such operator does not exist.\")\n"
   ]
  },
  {
   "cell_type": "markdown",
   "metadata": {},
   "source": [
    "#### Try the above code with different operators."
   ]
  },
  {
   "cell_type": "markdown",
   "metadata": {},
   "source": [
    "# Program for truthy or false value."
   ]
  },
  {
   "cell_type": "code",
   "execution_count": 2,
   "metadata": {},
   "outputs": [
    {
     "name": "stdout",
     "output_type": "stream",
     "text": [
      "Enter your name:-\n",
      "\n",
      "You did not entered your name.\n"
     ]
    }
   ],
   "source": [
    "#CASE1 \n",
    "\n",
    "print(\"Enter your name:-\")\n",
    "name = input()\n",
    "if name:\n",
    "    print(\"hi...\"+name+\",\"\"\\nThank you for entering your name.\")\n",
    "else:\n",
    "    print(\"You did not entered your name.\")\n"
   ]
  },
  {
   "cell_type": "code",
   "execution_count": 3,
   "metadata": {},
   "outputs": [
    {
     "name": "stdout",
     "output_type": "stream",
     "text": [
      "Enter your name:-\n",
      "JAY\n",
      "hi...JAY,\n",
      "Thank you for entering your name.\n"
     ]
    }
   ],
   "source": [
    "#CASE2\n",
    "\n",
    "print(\"Enter your name:-\")\n",
    "name = input()\n",
    "if name:\n",
    "    print(\"hi...\"+name+\",\"\"\\nThank you for entering your name.\")\n",
    "else:\n",
    "    print(\"You did not entered your name.\")\n"
   ]
  },
  {
   "cell_type": "markdown",
   "metadata": {},
   "source": [
    "white space or empty string is always considers as  false value \n",
    "and any character if entered it is truthy value since the variable holds atleats something it int"
   ]
  },
  {
   "cell_type": "markdown",
   "metadata": {},
   "source": [
    "# Great Job"
   ]
  }
 ],
 "metadata": {
  "kernelspec": {
   "display_name": "Python 3",
   "language": "python",
   "name": "python3"
  },
  "language_info": {
   "codemirror_mode": {
    "name": "ipython",
    "version": 3
   },
   "file_extension": ".py",
   "mimetype": "text/x-python",
   "name": "python",
   "nbconvert_exporter": "python",
   "pygments_lexer": "ipython3",
   "version": "3.7.1"
  }
 },
 "nbformat": 4,
 "nbformat_minor": 4
}
