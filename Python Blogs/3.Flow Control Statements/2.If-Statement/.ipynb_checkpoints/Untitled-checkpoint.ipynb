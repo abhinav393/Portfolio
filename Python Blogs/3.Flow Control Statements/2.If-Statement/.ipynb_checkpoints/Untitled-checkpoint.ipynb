{
 "cells": [
  {
   "cell_type": "markdown",
   "metadata": {},
   "source": [
    "# FlowControl-: If - Statement"
   ]
  },
  {
   "cell_type": "markdown",
   "metadata": {},
   "source": [
    "**If Statement:**\n",
    "- The simplest flow control statement is ' if ' statement .\n",
    "- ' if ' statement checks that the condition is  True or not , and if its True then it executes the indented block of code. \n",
    "- The expression in the \" if \" statement is called conditions, but technically a condition and expressions are same things.\n"
   ]
  },
  {
   "cell_type": "markdown",
   "metadata": {},
   "source": [
    "**Syntax:**\n",
    "\n",
    "If(condition):\n",
    "\t\t- Statement1\n"
   ]
  },
  {
   "cell_type": "code",
   "execution_count": 2,
   "metadata": {},
   "outputs": [
    {
     "name": "stdout",
     "output_type": "stream",
     "text": [
      "Enter ur name:jay\n",
      "Thank you\n"
     ]
    }
   ],
   "source": [
    "#Program on if Statement - case1\n",
    "\n",
    "name=input('Enter ur name:')\n",
    "if name == 'alice': \n",
    "    print('hi Alice')\n",
    "    print('Done')\n",
    "print('Thank you')\n"
   ]
  },
  {
   "cell_type": "code",
   "execution_count": 4,
   "metadata": {},
   "outputs": [
    {
     "name": "stdout",
     "output_type": "stream",
     "text": [
      "Enter ur name:alice\n",
      "hi Alice\n",
      "Done\n",
      "Thank you\n"
     ]
    }
   ],
   "source": [
    "#Program on if Statement   case2\n",
    "\n",
    "name=input('Enter ur name:')\n",
    "if name == 'alice': \n",
    "    print('hi Alice')\n",
    "    print('Done')\n",
    "print('Thank you')\n"
   ]
  },
  {
   "cell_type": "markdown",
   "metadata": {},
   "source": [
    "![title](2.png)"
   ]
  },
  {
   "cell_type": "markdown",
   "metadata": {},
   "source": [
    "# Great Job"
   ]
  }
 ],
 "metadata": {
  "kernelspec": {
   "display_name": "Python 3",
   "language": "python",
   "name": "python3"
  },
  "language_info": {
   "codemirror_mode": {
    "name": "ipython",
    "version": 3
   },
   "file_extension": ".py",
   "mimetype": "text/x-python",
   "name": "python",
   "nbconvert_exporter": "python",
   "pygments_lexer": "ipython3",
   "version": "3.7.1"
  }
 },
 "nbformat": 4,
 "nbformat_minor": 4
}
