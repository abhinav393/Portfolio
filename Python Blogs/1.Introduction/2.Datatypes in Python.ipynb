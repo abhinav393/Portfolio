{
 "cells": [
  {
   "cell_type": "markdown",
   "metadata": {},
   "source": [
    "# DataTypes in Python"
   ]
  },
  {
   "cell_type": "markdown",
   "metadata": {},
   "source": [
    "- **Datatype is category of values & every values belong to the one datatype.**\n",
    "- **Python is a loosely typed language. Therefore, no need to define the datatype of variable.**\n",
    "- **Datatype are mainly classified into two i.e,**\n",
    "    - **Immutable**\n",
    "    - **Mutable**"
   ]
  },
  {
   "cell_type": "markdown",
   "metadata": {},
   "source": [
    "![title](datatype.jpg)"
   ]
  },
  {
   "cell_type": "markdown",
   "metadata": {},
   "source": [
    "# Immutable Datatype"
   ]
  },
  {
   "cell_type": "markdown",
   "metadata": {},
   "source": [
    "- **If the values has been assign to that datatype and it cannot be change then it is called Immutable datatype.**\n",
    "- **The best example is tuple , if a value is present in the tuple then you cannot update them.**\n",
    "- **This is some what similar to a fixed list where where you cannot modify the existing values.**\n",
    "\n",
    "- **Types of Immutable Datatypes**\n",
    "    - **Numeric- involves various datatypes that deals with number system like, integer, float and complex number.**\n",
    "    - **String - used to store text or characters that begins and ends with identical quotation marks.**\n",
    "    - **Tuple - used to store squence of different or similar datatypes values surrounded by parenthesis and separated by comma.**"
   ]
  },
  {
   "cell_type": "markdown",
   "metadata": {},
   "source": [
    "![title](ND.png)"
   ]
  },
  {
   "cell_type": "markdown",
   "metadata": {},
   "source": [
    "**Numeric**\n",
    "- **In the numeric datatype we have mainly 3 classifications i.e.**\n",
    "- **Integer , where you can store whole number,**\n",
    "- **Float , where you can store decimal number,**\n",
    "- **Complex , where you can use real and imaginary number only difference is “ i ” replaced by “ j” .**\n"
   ]
  },
  {
   "cell_type": "markdown",
   "metadata": {},
   "source": [
    "**String** is a sequence of characters that begins and ends with single, double or triple quotation marks."
   ]
  },
  {
   "cell_type": "code",
   "execution_count": 1,
   "metadata": {},
   "outputs": [
    {
     "data": {
      "text/plain": [
       "'this is string.'"
      ]
     },
     "execution_count": 1,
     "metadata": {},
     "output_type": "execute_result"
    }
   ],
   "source": [
    "#Example of string.\n",
    "\"this is string.\""
   ]
  },
  {
   "cell_type": "markdown",
   "metadata": {},
   "source": [
    "**Tuple ( ) :-** is a group of sequence of values of similar or different datatype that are separated by comma(,) and surrouded by curve brackets ()"
   ]
  },
  {
   "cell_type": "code",
   "execution_count": 2,
   "metadata": {},
   "outputs": [
    {
     "data": {
      "text/plain": [
       "(11, 1.1, 'sting')"
      ]
     },
     "execution_count": 2,
     "metadata": {},
     "output_type": "execute_result"
    }
   ],
   "source": [
    "#Example of tuple\n",
    "(11,1.1,'sting')"
   ]
  },
  {
   "cell_type": "markdown",
   "metadata": {},
   "source": [
    "# Mutable Datatype\n",
    "- If the vales has been assign to that datatype and it can be change then it is called mutable datatype.\n"
   ]
  },
  {
   "cell_type": "markdown",
   "metadata": {},
   "source": [
    "**List  [ ] :-** is a group of sequence of values of similar or different datatype that are separated by comma(,) and surrouded by square brackets []"
   ]
  },
  {
   "cell_type": "code",
   "execution_count": 3,
   "metadata": {},
   "outputs": [
    {
     "data": {
      "text/plain": [
       "[11, 1.1, 'sting']"
      ]
     },
     "execution_count": 3,
     "metadata": {},
     "output_type": "execute_result"
    }
   ],
   "source": [
    "#Example of list\n",
    "[11,1.1,'sting']"
   ]
  },
  {
   "cell_type": "markdown",
   "metadata": {},
   "source": [
    "**Dictionary {'key':'value'} :-** is a group of sequence of values of similar or different datatype that are separated by comma(,) and surrouded by curly brackets{'key':value}\n",
    "\n",
    "- It uses key:value pair to store the data.\n",
    "- Dictionaries are unordered."
   ]
  },
  {
   "cell_type": "code",
   "execution_count": 4,
   "metadata": {},
   "outputs": [
    {
     "data": {
      "text/plain": [
       "{'Dad': 42, 'Mom': 39, 'Sister': 24, 'Me': 21}"
      ]
     },
     "execution_count": 4,
     "metadata": {},
     "output_type": "execute_result"
    }
   ],
   "source": [
    "#Example of dictionary family members and their ages\n",
    "{\"Dad\":42 , \"Mom\":39,\"Sister\":24,\"Me\":21}"
   ]
  },
  {
   "cell_type": "markdown",
   "metadata": {},
   "source": [
    "**Set {}:-** is a group of sequence of values of similar or different datatype that are separated by comma(,) and surrouded by curly brackets{}\n",
    "- A set is an ordered collection of items\n",
    "- Every elements is unique (no duplicates) and must be immutable (which cannot be changed)"
   ]
  },
  {
   "cell_type": "code",
   "execution_count": 5,
   "metadata": {},
   "outputs": [
    {
     "data": {
      "text/plain": [
       "{0, 1, 2, 3, 4, 5}"
      ]
     },
     "execution_count": 5,
     "metadata": {},
     "output_type": "execute_result"
    }
   ],
   "source": [
    "#Example of set\n",
    "{1,2,3,4,5,5,4,3,2,1,0}"
   ]
  },
  {
   "cell_type": "markdown",
   "metadata": {},
   "source": [
    "### This is just very basic detail about the datatypes in python. We will look into it deeply in further chapters."
   ]
  },
  {
   "cell_type": "markdown",
   "metadata": {},
   "source": [
    "# Great Job"
   ]
  }
 ],
 "metadata": {
  "kernelspec": {
   "display_name": "Python 3",
   "language": "python",
   "name": "python3"
  },
  "language_info": {
   "codemirror_mode": {
    "name": "ipython",
    "version": 3
   },
   "file_extension": ".py",
   "mimetype": "text/x-python",
   "name": "python",
   "nbconvert_exporter": "python",
   "pygments_lexer": "ipython3",
   "version": "3.7.1"
  }
 },
 "nbformat": 4,
 "nbformat_minor": 4
}
