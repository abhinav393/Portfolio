{
 "cells": [
  {
   "cell_type": "markdown",
   "metadata": {},
   "source": [
    "# Introduction"
   ]
  },
  {
   "cell_type": "markdown",
   "metadata": {},
   "source": [
    "- **Python was created by Guido Rossum in 1989 and is very easy to learn.**\n",
    "- **Python is an inpterpreted, oject oriented, high level programming language with dynamic sementic.**\n",
    "- **Python follows both object oriented as well as procedural oriented programming style.**\n"
   ]
  },
  {
   "cell_type": "markdown",
   "metadata": {},
   "source": [
    "# Uses of Python"
   ]
  },
  {
   "cell_type": "markdown",
   "metadata": {},
   "source": [
    "- **Youtube : The popular youtube vedio sharing service is largely written in python.**\n",
    "- **Google: it makes extensice use of python in its web search systems.**\n",
    "- **Dropbox : Its storage services codes both its server and desktop client software primarily in python.**\n",
    "- **Raspberry pi : Its singleboard computer promotes python as its educational language,**\n",
    "- **BitTorrent : Its peer to peer file sharing system began its life as a python program.**\n"
   ]
  },
  {
   "cell_type": "markdown",
   "metadata": {},
   "source": [
    "# Features of Python"
   ]
  },
  {
   "cell_type": "markdown",
   "metadata": {},
   "source": [
    "- **Simple and easy to learn.**\n",
    "- **Free and open source.**\n",
    "- **High-level language**\n",
    "- **Portable**\n",
    "- **Supports different programming paradigm**\n",
    "- **Extensible.**\n"
   ]
  }
 ],
 "metadata": {
  "kernelspec": {
   "display_name": "Python 3",
   "language": "python",
   "name": "python3"
  },
  "language_info": {
   "codemirror_mode": {
    "name": "ipython",
    "version": 3
   },
   "file_extension": ".py",
   "mimetype": "text/x-python",
   "name": "python",
   "nbconvert_exporter": "python",
   "pygments_lexer": "ipython3",
   "version": "3.7.1"
  }
 },
 "nbformat": 4,
 "nbformat_minor": 4
}
