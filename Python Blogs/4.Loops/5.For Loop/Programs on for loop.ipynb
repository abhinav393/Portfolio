{
 "cells": [
  {
   "cell_type": "markdown",
   "metadata": {},
   "source": [
    "# Programs on For loop"
   ]
  },
  {
   "cell_type": "code",
   "execution_count": 1,
   "metadata": {},
   "outputs": [
    {
     "name": "stdout",
     "output_type": "stream",
     "text": [
      "Enter a number for factorial: 5\n",
      "120\n"
     ]
    }
   ],
   "source": [
    "#Program for factorial.\n",
    "number = int(input(\"Enter a number for factorial: \"))\n",
    "total = 1\n",
    "for i in range(number):\n",
    "    total*=(i+1)\n",
    "print(total)\n"
   ]
  },
  {
   "cell_type": "code",
   "execution_count": 2,
   "metadata": {},
   "outputs": [
    {
     "name": "stdout",
     "output_type": "stream",
     "text": [
      "Enter 10 number with space: 1 2 3 4 5 6 7 8 9 10\n",
      "55\n"
     ]
    }
   ],
   "source": [
    "#Prgram for sum of 10 number of user input through list\n",
    "list1 = list(map(int,input(\"Enter 10 number with space: \").strip().split()))\n",
    "total = 0\n",
    "for l in list1:\n",
    "    total+=l\n",
    "print(total)\n"
   ]
  },
  {
   "cell_type": "code",
   "execution_count": 3,
   "metadata": {},
   "outputs": [
    {
     "name": "stdout",
     "output_type": "stream",
     "text": [
      "Enter a number: 100\n",
      "5050\n"
     ]
    }
   ],
   "source": [
    "#Program for sum of n natural numbers through user input\n",
    "number =int(input(\"Enter a number: \"))\n",
    "total = 0\n",
    "for i in range(number +1):\n",
    "    total+=i\n",
    "print(total)\n"
   ]
  },
  {
   "cell_type": "code",
   "execution_count": 4,
   "metadata": {},
   "outputs": [
    {
     "name": "stdout",
     "output_type": "stream",
     "text": [
      "[0, 2, 4, 6, 8, 10, 12, 14, 16, 18, 20, 22, 24, 26, 28, 30, 32, 34, 36, 38, 40, 42, 44, 46, 48, 50, 52, 54, 56, 58, 60, 62, 64, 66, 68, 70, 72, 74, 76, 78, 80, 82, 84, 86, 88, 90, 92, 94, 96, 98, 100]\n",
      "the total sum is 2550\n"
     ]
    }
   ],
   "source": [
    "#Program for adding all the even number from 1 to 100\n",
    "even = list(range(0,101,2))\n",
    "print(even)\n",
    "\n",
    "total = 0\n",
    "for e in range(len(even)):\n",
    "    total+=even[e]\n",
    "print('the total sum is' , total)\n"
   ]
  },
  {
   "cell_type": "code",
   "execution_count": 5,
   "metadata": {},
   "outputs": [
    {
     "name": "stdout",
     "output_type": "stream",
     "text": [
      "[1, 3, 5, 7, 9, 11, 13, 15, 17, 19, 21, 23, 25, 27, 29, 31, 33, 35, 37, 39, 41, 43, 45, 47, 49, 51, 53, 55, 57, 59, 61, 63, 65, 67, 69, 71, 73, 75, 77, 79, 81, 83, 85, 87, 89, 91, 93, 95, 97, 99]\n",
      "the total sum is 2500\n"
     ]
    }
   ],
   "source": [
    "#Program for adding all the odd number from 1 to 100\n",
    "odd = list(range(1,101,2))\n",
    "print(odd)\n",
    "\n",
    "total = 0\n",
    "for o in range(len(odd)):\n",
    "    total+=odd[o]\n",
    "print('the total sum is' , total)\n"
   ]
  },
  {
   "cell_type": "code",
   "execution_count": 6,
   "metadata": {},
   "outputs": [
    {
     "name": "stdout",
     "output_type": "stream",
     "text": [
      "Enter the length of the list: 5\n",
      "Enter list item number 1: \n",
      "3\n",
      "Enter list item number 2: \n",
      "5\n",
      "Enter list item number 3: \n",
      "6\n",
      "Enter list item number 4: \n",
      "8\n",
      "Enter list item number 5: \n",
      "3\n",
      "[3, 5, 6, 8, 3]\n",
      "The sum of all the items in list is  25\n"
     ]
    }
   ],
   "source": [
    "#Program for adding elemts in list through user input.\n",
    "list1 = []\n",
    "length = int(input(\"Enter the length of the list: \"))\n",
    "index =1\n",
    "total = 0\n",
    "\n",
    "for i in range(length):\n",
    "    print(\"Enter list item number \" + str(index) + \": \")\n",
    "    data = int(input())\n",
    "    list1.append(data)\n",
    "    index+=1\n",
    "print(list1)\n",
    "\n",
    "for i in range(len(list1)):\n",
    "    total += list1[i]\n",
    "print(\"The sum of all the items in list is \",total)\n"
   ]
  },
  {
   "cell_type": "code",
   "execution_count": 7,
   "metadata": {},
   "outputs": [
    {
     "name": "stdout",
     "output_type": "stream",
     "text": [
      "Enter a number: 8\n",
      "Enter a number: 5\n",
      "Enter a number: 2\n",
      "Enter a number: 4\n",
      "Enter a number: 6\n",
      "Enter a number: 9\n",
      "Enter a number: 1\n",
      "Enter a number: 7\n",
      "Enter a number: 3\n",
      "Enter a number: 0\n",
      "45\n"
     ]
    }
   ],
   "source": [
    "#Sum of 10 numbers from users\n",
    "list1 = []\n",
    "for i in range(10):\n",
    "    data = int(input(\"Enter a number: \"))\n",
    "    list1.append(data)\n",
    "total=0\n",
    "for i in range(len(list1)):\n",
    "    total+=list1[i]\n",
    "print(total)\n"
   ]
  },
  {
   "cell_type": "code",
   "execution_count": 8,
   "metadata": {},
   "outputs": [
    {
     "name": "stdout",
     "output_type": "stream",
     "text": [
      "The index number is 0 in friends list , is of Mithilesh\n",
      "The index number is 1 in friends list , is of Deepak\n",
      "The index number is 2 in friends list , is of Sneha\n",
      "The index number is 3 in friends list , is of Pooja\n",
      "The index number is 4 in friends list , is of Ashish\n",
      "The index number is 5 in friends list , is of Abhishek\n",
      "The index number is 6 in friends list , is of kishor\n",
      "The index number is 7 in friends list , is of RohitM\n",
      "The index number is 8 in friends list , is of RohitP\n",
      "The index number is 9 in friends list , is of Ganesh\n",
      "The index number is 10 in friends list , is of Jyoti\n",
      "The index number is 11 in friends list , is of Pradhnya\n",
      "The index number is 12 in friends list , is of Neeraj\n",
      "The index number is 13 in friends list , is of Afreen\n",
      "The index number is 14 in friends list , is of Nikita\n"
     ]
    }
   ],
   "source": [
    "#Creating a friends list and printing the data inside the list with its index number.\n",
    "list1=[\"Mithilesh\",\"Deepak\",\"Sneha\",\"Pooja\",\n",
    "       \"Ashish\",\"Abhishek\",\"kishor\", \"RohitM\",\n",
    "       \"RohitP\",\"Ganesh\",\"Jyoti\",\"Pradhnya\",\n",
    "       \"Neeraj\",\"Afreen\",\"Nikita\"]\n",
    "\n",
    "for i in range(len(list1)):\n",
    "    print(\"The index number is \" + str(i) + \" in friends list , is of \" + list1[i])\n"
   ]
  },
  {
   "cell_type": "code",
   "execution_count": 9,
   "metadata": {},
   "outputs": [
    {
     "name": "stdout",
     "output_type": "stream",
     "text": [
      "The index number is 0 in database is of Username: Mithilesh with Password: 1233\n",
      "The index number is 1 in database is of Username: Deepak with Password: 2345\n",
      "The index number is 2 in database is of Username: Sneha with Password: 3456\n",
      "The index number is 3 in database is of Username: Pooja with Password: 4567\n",
      "The index number is 4 in database is of Username: Ashish with Password: 5678\n",
      "The index number is 5 in database is of Username: Abhishek with Password: 6789\n",
      "The index number is 6 in database is of Username: kishor with Password: 7890\n",
      "The index number is 7 in database is of Username: RohitM with Password: 8901\n",
      "The index number is 8 in database is of Username: RohitP with Password: 8901\n",
      "The index number is 9 in database is of Username: Ganesh with Password: 9012\n",
      "The index number is 10 in database is of Username: Jyoti with Password: 9112\n",
      "The index number is 11 in database is of Username: Pradhnya with Password: 1123\n",
      "The index number is 12 in database is of Username: Neraj with Password: 3012\n",
      "The index number is 13 in database is of Username: Afreen with Password: 3201\n",
      "The index number is 14 in database is of Username: Nikita with Password: 5487\n"
     ]
    }
   ],
   "source": [
    "#Creating a list named database and adding multiple nested list in database which contains username and password or your friends\n",
    "\n",
    "database =[[\"Mithilesh\",1233],[\"Deepak\",2345],\n",
    "           [\"Sneha\",3456],[\"Pooja\",4567], \n",
    "           [\"Ashish\",5678],[\"Abhishek\",6789],\n",
    "           [\"kishor\",7890],[\"RohitM\",8901],\n",
    "           [\"RohitP\",8901],[\"Ganesh\",9012],\n",
    "           [\"Jyoti\",9112],[\"Pradhnya\",1123],\n",
    "           [\"Neraj\",3012],[\"Afreen\",3201],\n",
    "           [\"Nikita\",5487]]\n",
    "\n",
    "for i in range(len(database)):\n",
    "    print(\"The index number is \" + str(i) + \" in database is of Username: \" + database[i][0] + \" with Password: \" + str(database[i][1]))\n"
   ]
  },
  {
   "cell_type": "code",
   "execution_count": 10,
   "metadata": {},
   "outputs": [
    {
     "name": "stdout",
     "output_type": "stream",
     "text": [
      "At index  0  in database, the username is  Mithilesh  and the password is  1233\n",
      "At index  1  in database, the username is  Deepak  and the password is  2345\n",
      "At index  2  in database, the username is  Sneha  and the password is  3456\n",
      "At index  3  in database, the username is  Pooja  and the password is  4567\n",
      "At index  4  in database, the username is  Ashish  and the password is  5678\n",
      "At index  5  in database, the username is  Abhishek  and the password is  6789\n",
      "At index  6  in database, the username is  kishor  and the password is  7890\n",
      "At index  7  in database, the username is  RohitM  and the password is  8901\n",
      "At index  8  in database, the username is  RohitP  and the password is  8901\n",
      "At index  9  in database, the username is  Ganesh  and the password is  9012\n",
      "At index  10  in database, the username is  Jyoti  and the password is  9112\n",
      "At index  11  in database, the username is  Pradhnya  and the password is  1123\n",
      "At index  12  in database, the username is  Neraj  and the password is  3012\n",
      "At index  13  in database, the username is  Afreen  and the password is  3201\n",
      "At index  14  in database, the username is  Nikita  and the password is  5487\n"
     ]
    }
   ],
   "source": [
    "#Creating a list named database and adding multiple nested list in database which contains username and password or your friends\n",
    "\n",
    "database =[[\"Mithilesh\",1233],[\"Deepak\",2345],\n",
    "           [\"Sneha\",3456],[\"Pooja\",4567], \n",
    "           [\"Ashish\",5678],[\"Abhishek\",6789],\n",
    "           [\"kishor\",7890],[\"RohitM\",8901],\n",
    "           [\"RohitP\",8901],[\"Ganesh\",9012],\n",
    "           [\"Jyoti\",9112],[\"Pradhnya\",1123],\n",
    "           [\"Neraj\",3012],[\"Afreen\",3201],\n",
    "           [\"Nikita\",5487]]\n",
    "\n",
    "index = 0\n",
    "for u,p in database:\n",
    "    print(\"At index \" ,index,\" in database, the username is \",u,\" and the password is \", p )\n",
    "    index+=1\n"
   ]
  },
  {
   "cell_type": "code",
   "execution_count": 11,
   "metadata": {},
   "outputs": [
    {
     "name": "stdout",
     "output_type": "stream",
     "text": [
      "User Name: mickey\n",
      "Password: 3333\n",
      "Username & Password does not matched \n",
      "\n",
      "Please try again\n",
      "\n",
      "\n",
      "User Name: micky\n",
      "Password: 9999\n",
      "Username & Password does not matched \n",
      "\n",
      "Please try again\n",
      "\n",
      "\n",
      "User Name: mickey\n",
      "Password: 999\n",
      "Username & Password does not matched \n",
      "\n",
      "You already took 3 atempts .Please try after 3 hours\n",
      "\n",
      "\n"
     ]
    }
   ],
   "source": [
    "#Program for verifing username password in database:\n",
    "\n",
    "database = [['deepak', '1111'], ['sneha', '2222'], ['rohit', '3333'], ['pooja', '5555'],\n",
    " ['ragini', '6666'], ['kishor', '0007'], ['teacher', '8888'], ['mickey', '9999']]\n",
    "\n",
    "for i in range(3):\n",
    "    username = input('User Name: ')\n",
    "    pin = input('Password: ')\n",
    "    if [username.lower(), pin.lower()] in database:\n",
    "        print('Access Granted ..... \\n\\n hi,' +username +'....,! \\n Welcome to Mickey\\'s programming world.')\n",
    "        break\n",
    "    elif [username.lower(), pin.lower()]not in database:\n",
    "        print(\"Username & Password does not matched \\n\")\n",
    "        if i ==2:\n",
    "            print(\"You already took 3 atempts .Please try after 3 hours\\n\\n\")\n",
    "        else:\n",
    "            print(\"Please try again\\n\\n\")\n"
   ]
  },
  {
   "cell_type": "code",
   "execution_count": 12,
   "metadata": {},
   "outputs": [
    {
     "name": "stdout",
     "output_type": "stream",
     "text": [
      "This is list of Prime numbers:- [2, 3, 5, 7, 11, 13, 17, 19, 23, 29, 31, 37, 41, 43, 47, 53, 59, 61, 67, 71, 73, 79, 83, 89, 97]\n"
     ]
    }
   ],
   "source": [
    "#Program for prime number;\n",
    "list1 = []\n",
    "for i in range(2,101):\n",
    "    counter ,j=0,2\n",
    "    while j<i:\n",
    "        if i %j ==0:\n",
    "            counter =1\n",
    "            j+=1\n",
    "        else:\n",
    "            j+=1\n",
    "    if counter == 0:\n",
    "        list1.append(i)\n",
    "    else:\n",
    "        counter =0\n",
    "print(\"This is list of Prime numbers:-\",list1)\n"
   ]
  },
  {
   "cell_type": "code",
   "execution_count": 13,
   "metadata": {},
   "outputs": [
    {
     "name": "stdout",
     "output_type": "stream",
     "text": [
      "This is list of Prime numbers:- [2, 3, 5, 7, 11, 13, 17, 19, 23, 29, 31, 37, 41, 43, 47, 53, 59, 61, 67, 71, 73, 79, 83, 89, 97]\n",
      "This is the List of Composite Numbers:- [4, 6, 8, 9, 10, 12, 14, 15, 16, 18, 20, 21, 22, 24, 25, 26, 27, 28, 30, 32, 33, 34, 35, 36, 38, 39, 40, 42, 44, 45, 46, 48, 49, 50, 51, 52, 54, 55, 56, 57, 58, 60, 62, 63, 64, 65, 66, 68, 69, 70, 72, 74, 75, 76, 77, 78, 80, 81, 82, 84, 85, 86, 87, 88, 90, 91, 92, 93, 94, 95, 96, 98, 99, 100]\n"
     ]
    }
   ],
   "source": [
    "list1 = []\n",
    "for i in range(2,101):\n",
    "    counter ,j=0,2\n",
    "    while j<i:\n",
    "        if i %j ==0:\n",
    "            counter =1\n",
    "            j+=1\n",
    "        else:\n",
    "            j+=1\n",
    "    if counter == 0:\n",
    "        list1.append(i)\n",
    "    else:\n",
    "        counter =0\n",
    "print(\"This is list of Prime numbers:-\",list1)\n",
    "\n",
    "#for composite number\n",
    "num = set(range(2,101))\n",
    "comp = set(num) - set(list1)\n",
    "print(\"This is the List of Composite Numbers:-\",list(comp))\n"
   ]
  },
  {
   "cell_type": "markdown",
   "metadata": {},
   "source": [
    "# For Loop Using Dictionary."
   ]
  },
  {
   "cell_type": "code",
   "execution_count": 14,
   "metadata": {},
   "outputs": [
    {
     "data": {
      "text/plain": [
       "{'name': 'kitty', 'species': 'cat', 'age': 2}"
      ]
     },
     "execution_count": 14,
     "metadata": {},
     "output_type": "execute_result"
    }
   ],
   "source": [
    "mydict = {'name':'kitty','species':'cat','age':2}\n",
    "mydict\n"
   ]
  },
  {
   "cell_type": "code",
   "execution_count": 15,
   "metadata": {},
   "outputs": [
    {
     "name": "stdout",
     "output_type": "stream",
     "text": [
      "name\n",
      "species\n",
      "age\n"
     ]
    }
   ],
   "source": [
    "for k in mydict.keys():\n",
    "    print(k)\n"
   ]
  },
  {
   "cell_type": "code",
   "execution_count": 16,
   "metadata": {},
   "outputs": [
    {
     "name": "stdout",
     "output_type": "stream",
     "text": [
      "kitty\n",
      "cat\n",
      "2\n"
     ]
    }
   ],
   "source": [
    "for v in mydict.values():\n",
    "    print(v)\n"
   ]
  },
  {
   "cell_type": "code",
   "execution_count": 17,
   "metadata": {},
   "outputs": [
    {
     "name": "stdout",
     "output_type": "stream",
     "text": [
      "name kitty\n",
      "species cat\n",
      "age 2\n"
     ]
    }
   ],
   "source": [
    "for k,v in mydict.items():\n",
    "    print(k,v)\n"
   ]
  },
  {
   "cell_type": "code",
   "execution_count": 18,
   "metadata": {},
   "outputs": [
    {
     "name": "stdout",
     "output_type": "stream",
     "text": [
      "('name', 'kitty')\n",
      "('species', 'cat')\n",
      "('age', 2)\n"
     ]
    }
   ],
   "source": [
    "for i in mydict.items():\n",
    "    print(i)\n"
   ]
  },
  {
   "cell_type": "markdown",
   "metadata": {},
   "source": [
    "### Analyse deeply the above codes and keep learning."
   ]
  },
  {
   "cell_type": "markdown",
   "metadata": {},
   "source": [
    "# Great JOb"
   ]
  }
 ],
 "metadata": {
  "kernelspec": {
   "display_name": "Python 3",
   "language": "python",
   "name": "python3"
  },
  "language_info": {
   "codemirror_mode": {
    "name": "ipython",
    "version": 3
   },
   "file_extension": ".py",
   "mimetype": "text/x-python",
   "name": "python",
   "nbconvert_exporter": "python",
   "pygments_lexer": "ipython3",
   "version": "3.7.1"
  }
 },
 "nbformat": 4,
 "nbformat_minor": 4
}
