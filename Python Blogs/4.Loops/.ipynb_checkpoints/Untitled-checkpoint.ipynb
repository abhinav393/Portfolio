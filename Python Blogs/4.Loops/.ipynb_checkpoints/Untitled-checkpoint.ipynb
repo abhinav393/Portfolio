{
 "cells": [
  {
   "cell_type": "markdown",
   "metadata": {},
   "source": [
    "# While Loop"
   ]
  },
  {
   "cell_type": "markdown",
   "metadata": {},
   "source": [
    "### **While Loop**\n",
    "- A while loop is a special loop that loops as long as condition is True. \n",
    "- So until the condition becomes False the while loop keep looping over the program.\n"
   ]
  },
  {
   "cell_type": "markdown",
   "metadata": {},
   "source": [
    "**Syntax:**\n",
    "- while(condition):\n",
    "  - Statements\n"
   ]
  },
  {
   "cell_type": "code",
   "execution_count": 1,
   "metadata": {},
   "outputs": [
    {
     "name": "stdout",
     "output_type": "stream",
     "text": [
      "1\n",
      "2\n",
      "3\n",
      "4\n",
      "5\n",
      "6\n",
      "7\n",
      "8\n",
      "9\n",
      "10\n"
     ]
    }
   ],
   "source": [
    "#Program on while loop\n",
    "\n",
    "b=1\n",
    "while b<=10:\n",
    "    print(b)\n",
    "    b+=1\n"
   ]
  },
  {
   "cell_type": "code",
   "execution_count": 2,
   "metadata": {},
   "outputs": [
    {
     "name": "stdout",
     "output_type": "stream",
     "text": [
      "Hello world...!\n",
      "Hello world...!\n",
      "Hello world...!\n",
      "Hello world...!\n",
      "Hello world...!\n"
     ]
    }
   ],
   "source": [
    "#Program on  while loop\n",
    "\n",
    "x = 0\n",
    "while x<5:\n",
    "    print(\"Hello world...!\")\n",
    "    x+=1\n"
   ]
  },
  {
   "cell_type": "markdown",
   "metadata": {},
   "source": [
    "- This is because x start with 0, as long as the condition x<5 is True, the while loop keeps looping & inside the while loop x variable is increased by 1 , at the end of the 1st loop the execution jumps back to the start of the while loop and rechecks the condition and if the condition is still True it re-enters the block of code again .\n",
    "- So this is why, the block runs 5 times but, at the 5th time the x is set to the value 5 & the while loop condition x<5 becomes False .So the execution stops after the condition becomes False and the program gets end.\n",
    "- When the execution is runs through a loop its called a iteration .So we say that the while loop iterates 5 times, on each iteration the x variable increased by 1.\n"
   ]
  },
  {
   "cell_type": "markdown",
   "metadata": {},
   "source": [
    "## If vs while"
   ]
  },
  {
   "cell_type": "code",
   "execution_count": 11,
   "metadata": {},
   "outputs": [
    {
     "name": "stdout",
     "output_type": "stream",
     "text": [
      "Hello world.\n"
     ]
    }
   ],
   "source": [
    "x=0\n",
    "if x < 5:\n",
    "    print('Hello world.')\n",
    "    x = x + 1\n"
   ]
  },
  {
   "cell_type": "markdown",
   "metadata": {},
   "source": [
    "![title](5a.png)"
   ]
  },
  {
   "cell_type": "code",
   "execution_count": 12,
   "metadata": {},
   "outputs": [
    {
     "name": "stdout",
     "output_type": "stream",
     "text": [
      "Hello world.\n",
      "Hello world.\n",
      "Hello world.\n",
      "Hello world.\n",
      "Hello world.\n"
     ]
    }
   ],
   "source": [
    "x = 0\n",
    "while x < 5:\n",
    "    print('Hello world.')\n",
    "    x = x + 1\n"
   ]
  },
  {
   "cell_type": "markdown",
   "metadata": {},
   "source": [
    "![title](5b.png)"
   ]
  },
  {
   "cell_type": "markdown",
   "metadata": {},
   "source": [
    "- Similar to the if statement , but the difference is \" How they behave?\" at the end of an 'if' block the program execution continues on with the rest of the program .\n",
    "- But at the end of the while block the execution jumps back to the start of the while loop & re-check the condition. So, if the condition is still True then the execution re-enters the while block , it keeps doing this & looping around through this code until the condition gets False, & then continues on the rest of the program.\n"
   ]
  },
  {
   "cell_type": "markdown",
   "metadata": {},
   "source": [
    "### Input Validation With While Loops"
   ]
  },
  {
   "cell_type": "code",
   "execution_count": 16,
   "metadata": {},
   "outputs": [
    {
     "name": "stdout",
     "output_type": "stream",
     "text": [
      " Please type ur name.\n",
      "jay\n",
      " Please type ur name.\n",
      "unless\n",
      " Please type ur name.\n",
      "i enter mrityunjay\n",
      " Please type ur name.\n",
      "it wont stop\n",
      " Please type ur name.\n",
      "mrityunjay\n",
      " Thank you \n"
     ]
    }
   ],
   "source": [
    "#case1:typing different name \n",
    "name= ' '   \n",
    "while name.lower()  != 'mrityunjay':\n",
    "    print(\" Please type ur name.\")\n",
    "    name=input()\n",
    "print(\" Thank you \")\n"
   ]
  },
  {
   "cell_type": "code",
   "execution_count": 17,
   "metadata": {},
   "outputs": [
    {
     "name": "stdout",
     "output_type": "stream",
     "text": [
      " Please type ur name.\n",
      "\n",
      " Please type ur name.\n",
      "\n",
      " Please type ur name.\n",
      "\n",
      " Please type ur name.\n",
      "\n",
      " Please type ur name.\n",
      "\n",
      " Please type ur name.\n",
      "mrityunjay\n",
      " Thank you \n"
     ]
    }
   ],
   "source": [
    "#case2:Entering a blank string, which is a Falsey value.\n",
    "\n",
    "name= ' '   \n",
    "while name.lower()  != 'mrityunjay':\n",
    "    print(\" Please type ur name.\")\n",
    "    name=input()\n",
    "print(\" Thank you \")\n"
   ]
  },
  {
   "cell_type": "markdown",
   "metadata": {},
   "source": [
    "- So very start the name variable has been set to a blank string that means the condition >>> while name != 'mrityunjay' , is True, because the blank string does not equals to the mrityunjay, so now the program will execute and prints Please type ur name , and then due to input function , the program will wait for the user to type the codes .\n",
    "- Unless the conditon become false here, the program will keep looping . But as the moment you \"mrityunjay\", the condition will becomes False and the program will move forward and prints Thankyou.\n"
   ]
  },
  {
   "cell_type": "markdown",
   "metadata": {},
   "source": [
    "![title](6.png)"
   ]
  },
  {
   "cell_type": "markdown",
   "metadata": {},
   "source": [
    "- So this is the example of input validation. When the input function is called, user can type anything. \n",
    "- If you ask the user to type their age, So instead of number they can a string or any negative number.\n",
    "- So loops are good way to ensure that the program keep asking the user, until they type some Valid information to the program.\n"
   ]
  },
  {
   "cell_type": "markdown",
   "metadata": {},
   "source": [
    "# Program for While Loop."
   ]
  },
  {
   "cell_type": "code",
   "execution_count": 19,
   "metadata": {},
   "outputs": [
    {
     "name": "stdout",
     "output_type": "stream",
     "text": [
      "User Name: mickey\n",
      "Password: 2222\n",
      "Username & Password does not matched \n",
      " Please try again\n",
      "\n",
      "\n",
      "User Name: jay\n",
      "Password: 5555\n",
      "Username & Password does not matched \n",
      " Please try again\n",
      "\n",
      "\n",
      "User Name: MICKEY\n",
      "Password: 9999\n",
      "Access Granted ..... \n",
      "\n",
      " hi,MICKEY....,! \n",
      " Welcome to Mickey's programming world.\n"
     ]
    }
   ],
   "source": [
    "database = [\n",
    "['deepak', '1111'], ['sneha', '2222'],\n",
    " ['rohit', '3333'], ['pooja', '5555'],\n",
    " ['ragini', '6666'], ['kishor', '0007'],\n",
    " ['teacher', '8888'], ['mickey', '9999']\n",
    "]\n",
    "\n",
    "username = input('User Name: ')\n",
    "pin = input('Password: ')\n",
    "while [username.lower(), pin.lower()] not in database:\n",
    "    print(\"Username & Password does not matched \\n Please try again\\n\\n\")\n",
    "    username = input('User Name: ')\n",
    "    pin = input('Password: ')\n",
    "print('Access Granted ..... \\n\\n hi,' +username +'....,! \\n Welcome to Mickey\\'s programming world.')\n"
   ]
  },
  {
   "cell_type": "markdown",
   "metadata": {},
   "source": [
    "### Analyse the above and keep learning"
   ]
  },
  {
   "cell_type": "markdown",
   "metadata": {},
   "source": [
    "# Great Job"
   ]
  }
 ],
 "metadata": {
  "kernelspec": {
   "display_name": "Python 3",
   "language": "python",
   "name": "python3"
  },
  "language_info": {
   "codemirror_mode": {
    "name": "ipython",
    "version": 3
   },
   "file_extension": ".py",
   "mimetype": "text/x-python",
   "name": "python",
   "nbconvert_exporter": "python",
   "pygments_lexer": "ipython3",
   "version": "3.7.1"
  }
 },
 "nbformat": 4,
 "nbformat_minor": 4
}
