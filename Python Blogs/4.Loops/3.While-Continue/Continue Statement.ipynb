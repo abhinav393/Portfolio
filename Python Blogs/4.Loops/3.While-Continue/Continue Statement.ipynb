{
 "cells": [
  {
   "cell_type": "markdown",
   "metadata": {},
   "source": [
    "# While Continue"
   ]
  },
  {
   "cell_type": "markdown",
   "metadata": {},
   "source": [
    "### Continue statement:\n",
    "Like break statement , the continue statement are also used inside the loop & when the program execution reaches to the condition statement the execution immediately jumps back to the start of the loop and re-evaluate the loop condition."
   ]
  },
  {
   "cell_type": "code",
   "execution_count": 1,
   "metadata": {},
   "outputs": [
    {
     "name": "stdout",
     "output_type": "stream",
     "text": [
      "x is 1\n",
      "x is 2\n",
      "x is 4\n",
      "x is 5\n"
     ]
    }
   ],
   "source": [
    "x = 0\n",
    "while x <5:\n",
    "    x+=1\n",
    "    if x == 3:\n",
    "        continue \n",
    "    print(\"x is \"+str(x))\n"
   ]
  },
  {
   "cell_type": "markdown",
   "metadata": {},
   "source": [
    "- x is 3 , is missing that's because the when x is set 3, This condition gets True and the continue statement is executed .\n",
    "- So when continue is executed the execution immediately jumps back to the start of the while loop , so in this case that print function never happens. \n",
    "- That's why, you see when the execution is runs through a loop, we called that is a iteration.\n"
   ]
  },
  {
   "cell_type": "markdown",
   "metadata": {},
   "source": [
    "# Geat Job"
   ]
  }
 ],
 "metadata": {
  "kernelspec": {
   "display_name": "Python 3",
   "language": "python",
   "name": "python3"
  },
  "language_info": {
   "codemirror_mode": {
    "name": "ipython",
    "version": 3
   },
   "file_extension": ".py",
   "mimetype": "text/x-python",
   "name": "python",
   "nbconvert_exporter": "python",
   "pygments_lexer": "ipython3",
   "version": "3.7.1"
  }
 },
 "nbformat": 4,
 "nbformat_minor": 4
}
