{
 "cells": [
  {
   "cell_type": "markdown",
   "metadata": {},
   "source": [
    "# Some Built-In Functions In Python."
   ]
  },
  {
   "cell_type": "markdown",
   "metadata": {},
   "source": [
    "## Map Function."
   ]
  },
  {
   "cell_type": "markdown",
   "metadata": {},
   "source": [
    "Software engineers spend a lot of  time working with list, you work for stock market , you are analyzing lists of stock prices. Writing software for a drone delivery service , you are processing lists of orders. You work at friendface, you are  profiling lists of users with your mountain of personal data. \n",
    "\n",
    "A lot of code is spent analyzing, filtering and combing the items in a list. Python gives you functions to streamline these tasks, the map, filter and reduce function. We will now iterate over this list of functions one by one.\n",
    "\n",
    "Let us begin with the Map function, suppose we a have a function that computes the area of the circle with radius ‘r’ .\n"
   ]
  },
  {
   "cell_type": "code",
   "execution_count": 1,
   "metadata": {},
   "outputs": [],
   "source": [
    "def area(r):\n",
    "    \"\"\" area of the circle with radius r\"\"\"\n",
    "    return 3.14 * r**2\n"
   ]
  },
  {
   "cell_type": "markdown",
   "metadata": {},
   "source": [
    "What if, we have to computes the area of many different circles?\n",
    "Here is a list of radii. One way to do this would be to first create an empty list of areas.\n"
   ]
  },
  {
   "cell_type": "code",
   "execution_count": 2,
   "metadata": {},
   "outputs": [
    {
     "data": {
      "text/plain": [
       "[12.56, 78.5, 158.2874, 0.2826, 314.0]"
      ]
     },
     "execution_count": 2,
     "metadata": {},
     "output_type": "execute_result"
    }
   ],
   "source": [
    "#Method 1: Direct method\n",
    "areas =[]\n",
    "radii = [2,5,7.1,0.3,10]\n",
    "for i in radii:\n",
    "    areas.append(area(i))\n",
    "    \n",
    "areas\n"
   ]
  },
  {
   "cell_type": "markdown",
   "metadata": {},
   "source": [
    "Next, you could  loop over the list of  radii. For each radius you would compute the area of the circle, then append it to the area list. This is block of code is very clear and erect. \n",
    "\n",
    "But with the map function, we can accomplish this with a single line of code. The map function takes two arguments. The first is function, and the second is your list,tuple or other iterable object.\n"
   ]
  },
  {
   "cell_type": "code",
   "execution_count": 3,
   "metadata": {},
   "outputs": [
    {
     "data": {
      "text/plain": [
       "<map at 0x5fe6910>"
      ]
     },
     "execution_count": 3,
     "metadata": {},
     "output_type": "execute_result"
    }
   ],
   "source": [
    "#Method 2: Use ‘map’ function.\n",
    "map(area,radii)\n"
   ]
  },
  {
   "cell_type": "markdown",
   "metadata": {},
   "source": [
    "Here , map will apply the area function to each element in the list, but look! The output of the map function is not a list. It is a map object, which is actually an iterator over the results.\n",
    "\n",
    "\n",
    "This is highly favorable, especially when working with large collections of data. We can, however, turn this into a list by passing the map to the list constructor.\n"
   ]
  },
  {
   "cell_type": "code",
   "execution_count": 4,
   "metadata": {},
   "outputs": [
    {
     "data": {
      "text/plain": [
       "[12.56, 78.5, 158.2874, 0.2826, 314.0]"
      ]
     },
     "execution_count": 4,
     "metadata": {},
     "output_type": "execute_result"
    }
   ],
   "source": [
    "list(map(area,radii))"
   ]
  },
  {
   "cell_type": "markdown",
   "metadata": {},
   "source": [
    "###### Here’s, a general way the function works. "
   ]
  },
  {
   "cell_type": "markdown",
   "metadata": {},
   "source": [
    "![title](map.png)"
   ]
  },
  {
   "cell_type": "markdown",
   "metadata": {},
   "source": [
    "Suppose you have a list, tuple or other iterable collection of data and we would like to apply the function ‘f’ to each piece od data.With the map function, you first specify the function, then you specify the data to iterate over. The map function will return an iterator an iterator over.The map function will return an iterator over the collection of  ‘f’ applied to each piece of data."
   ]
  },
  {
   "cell_type": "markdown",
   "metadata": {},
   "source": [
    "Suppose you work for a weather and all your temperature data is stored in Celsius, then, unexpectedly, someone asks for a weather map in Fahrenheit.\n",
    "\n",
    "Here is a list of temperature data for some major cities in India.\n"
   ]
  },
  {
   "cell_type": "code",
   "execution_count": 5,
   "metadata": {},
   "outputs": [],
   "source": [
    "temps  =  [(\"Kasmir\",1),(\"Simla\",5),(\"Mumbai\",16),\n",
    "           (\"Hydrabad\",14),(\"Chennai\",14), (\"Banglure\",13)]"
   ]
  },
  {
   "cell_type": "markdown",
   "metadata": {},
   "source": [
    "Each  tuple contains the name of the city in English and the Temperature in degrees Celsius. Our  goal is to Convert this to a list, where the degrees are in Fahrenheit."
   ]
  },
  {
   "cell_type": "markdown",
   "metadata": {},
   "source": [
    "###### Here is the Formula for converting from\n",
    "\n",
    "F =9/5 x  C + 32\n",
    "\n",
    "So we will write a converter function using a lambda expression. This function will accept a tuple as the input, and will return a tuple with the same name, but the temperature in Fahrenheit.\n"
   ]
  },
  {
   "cell_type": "code",
   "execution_count": 6,
   "metadata": {},
   "outputs": [],
   "source": [
    "ctof = lambda data: (data[0], (9/5) * data[1] + 32)"
   ]
  },
  {
   "cell_type": "markdown",
   "metadata": {},
   "source": [
    "You can now create a list of data in Fahrenheit, by mapping the converter function to our list of temperature data."
   ]
  },
  {
   "cell_type": "code",
   "execution_count": 7,
   "metadata": {},
   "outputs": [
    {
     "data": {
      "text/plain": [
       "[('Kasmir', 33.8),\n",
       " ('Simla', 41.0),\n",
       " ('Mumbai', 60.8),\n",
       " ('Hydrabad', 57.2),\n",
       " ('Chennai', 57.2),\n",
       " ('Banglure', 55.400000000000006)]"
      ]
     },
     "execution_count": 7,
     "metadata": {},
     "output_type": "execute_result"
    }
   ],
   "source": [
    "list(map(ctof,temps))"
   ]
  },
  {
   "cell_type": "markdown",
   "metadata": {},
   "source": [
    "The Filter function in used to select certain pieces of data from a list, tuple or other collection of data. This name was chosen because it filters out the data you do not need.\n",
    "\n",
    "\n",
    "Suppose you were analyzing some data and you would like to select all the value that are above the average. So first we have to import the statistic module. Here’s  the list of data,\n"
   ]
  },
  {
   "cell_type": "code",
   "execution_count": 8,
   "metadata": {},
   "outputs": [],
   "source": [
    "import statistics\n",
    "data = [1.3,2.7,0.8,4.1,4.3,0.2]\n"
   ]
  },
  {
   "cell_type": "code",
   "execution_count": 9,
   "metadata": {},
   "outputs": [
    {
     "data": {
      "text/plain": [
       "2.2333333333333334"
      ]
     },
     "execution_count": 9,
     "metadata": {},
     "output_type": "execute_result"
    }
   ],
   "source": [
    "#Then , lets compute the average of the data,\n",
    "\n",
    "avg = statistics.mean(data)\n",
    "avg\n"
   ]
  },
  {
   "cell_type": "markdown",
   "metadata": {},
   "source": [
    "## Filter Function"
   ]
  },
  {
   "cell_type": "markdown",
   "metadata": {},
   "source": [
    "We will now use the filter function to selelct the data greater then the average, just like with map the first argument is a function. We will create an anonymous function that tests the input to see if it is above average. Next, passing in the list of data. The filter function will only return the data for which the function is true, "
   ]
  },
  {
   "cell_type": "code",
   "execution_count": 10,
   "metadata": {},
   "outputs": [
    {
     "data": {
      "text/plain": [
       "<filter at 0x6260890>"
      ]
     },
     "execution_count": 10,
     "metadata": {},
     "output_type": "execute_result"
    }
   ],
   "source": [
    "filter(lambda x:x>avg, data)"
   ]
  },
  {
   "cell_type": "markdown",
   "metadata": {},
   "source": [
    "However,  one again, the return value is not a list, but a filter object which is an iterator over the results. We can create a list of the results by passing the filter function to list constructor."
   ]
  },
  {
   "cell_type": "code",
   "execution_count": 11,
   "metadata": {},
   "outputs": [
    {
     "data": {
      "text/plain": [
       "[2.7, 4.1, 4.3]"
      ]
     },
     "execution_count": 11,
     "metadata": {},
     "output_type": "execute_result"
    }
   ],
   "source": [
    "list(filter(lambda x:x>avg, data))"
   ]
  },
  {
   "cell_type": "markdown",
   "metadata": {},
   "source": [
    "When you are working with data from outside sources, you will often encounter missing data or empty values. For example, here is a partial list of the cities in India."
   ]
  },
  {
   "cell_type": "code",
   "execution_count": 12,
   "metadata": {},
   "outputs": [],
   "source": [
    "cities = [\"\",\"Delhi\",\"\",\"Pune\",\"\",\"Mumbai\",\"\",\"Benglure\",\"\"]"
   ]
  },
  {
   "cell_type": "markdown",
   "metadata": {},
   "source": [
    "Notice, there are numerous string that are empty. To remove these, we’ll use the filter function. But instead of passing in a function we will simply pass none as first argument. The second argument is the list of data as before."
   ]
  },
  {
   "cell_type": "code",
   "execution_count": 13,
   "metadata": {},
   "outputs": [
    {
     "data": {
      "text/plain": [
       "['Delhi', 'Pune', 'Mumbai', 'Benglure']"
      ]
     },
     "execution_count": 13,
     "metadata": {},
     "output_type": "execute_result"
    }
   ],
   "source": [
    "list(filter(None,cities))"
   ]
  },
  {
   "cell_type": "markdown",
   "metadata": {},
   "source": [
    "This filters out all values that are treated as false in a Boolean settings. \n",
    "In Python the values that are treated as false are :\n"
   ]
  },
  {
   "cell_type": "markdown",
   "metadata": {},
   "source": [
    "![title](fv.png)"
   ]
  },
  {
   "cell_type": "markdown",
   "metadata": {},
   "source": [
    "And also those objects that signal to python that it is a trivial instance. But be careful when using the filter function in this way. Zero is the valid piece of data in most situations, so you would not want to filter that out."
   ]
  },
  {
   "cell_type": "markdown",
   "metadata": {},
   "source": [
    "#### That's all For now."
   ]
  },
  {
   "cell_type": "markdown",
   "metadata": {},
   "source": [
    "We have covered all the necessary topics one need to build a strong foundation in programming languages.\n",
    "Keep learning and keep practicing."
   ]
  },
  {
   "cell_type": "markdown",
   "metadata": {},
   "source": [
    "# Great Job."
   ]
  }
 ],
 "metadata": {
  "kernelspec": {
   "display_name": "Python 3",
   "language": "python",
   "name": "python3"
  },
  "language_info": {
   "codemirror_mode": {
    "name": "ipython",
    "version": 3
   },
   "file_extension": ".py",
   "mimetype": "text/x-python",
   "name": "python",
   "nbconvert_exporter": "python",
   "pygments_lexer": "ipython3",
   "version": "3.7.1"
  }
 },
 "nbformat": 4,
 "nbformat_minor": 4
}
