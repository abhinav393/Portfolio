{
 "cells": [
  {
   "cell_type": "markdown",
   "metadata": {},
   "source": [
    "# Anonymous functions"
   ]
  },
  {
   "cell_type": "markdown",
   "metadata": {},
   "source": [
    "There are functions that have no names at all. There functions are called Anonymous functions or a lambda expressions.\n",
    "\n",
    "Suppose you want to write a function that will evaluate the value 3x+1, the standard approach would be to define a function. \n",
    "Let’s call it ‘f’ with a single input ‘x’ next it would return the value 3x+1\n"
   ]
  },
  {
   "cell_type": "code",
   "execution_count": 1,
   "metadata": {},
   "outputs": [],
   "source": [
    "def f(x):\n",
    "    return 3*x+1\n"
   ]
  },
  {
   "cell_type": "code",
   "execution_count": 2,
   "metadata": {},
   "outputs": [
    {
     "data": {
      "text/plain": [
       "7"
      ]
     },
     "execution_count": 2,
     "metadata": {},
     "output_type": "execute_result"
    }
   ],
   "source": [
    "f(2)"
   ]
  },
  {
   "cell_type": "markdown",
   "metadata": {},
   "source": [
    "So it worked nicely, let us now do this by using lambda expression.\n",
    "\n",
    "- To create a lambda expression, \n",
    "- Type the keyword lambda followed by your input.\n",
    "- Next, type a colon. \n",
    "- Finally, enter an expression that will be the return value.\n"
   ]
  },
  {
   "cell_type": "code",
   "execution_count": 3,
   "metadata": {},
   "outputs": [
    {
     "data": {
      "text/plain": [
       "<function __main__.<lambda>(x)>"
      ]
     },
     "execution_count": 3,
     "metadata": {},
     "output_type": "execute_result"
    }
   ],
   "source": [
    "lambda x:3*x+1"
   ]
  },
  {
   "cell_type": "markdown",
   "metadata": {},
   "source": [
    "This anonymous function will take the input ‘x’ and return the and return the 3x+1, just like the earlies function ‘f’.However, there is a problem. We cannot use this function because it does not have a name. It is, after all a anonymous function.\n",
    "Lambda is not the name of the function, it is the keyword that says what follows is a anonymous function. \n",
    "\n",
    "So how do you use it? One ways is to give it a name. Let’s us call this call this lambda expression ‘g’.\n"
   ]
  },
  {
   "cell_type": "code",
   "execution_count": 4,
   "metadata": {},
   "outputs": [],
   "source": [
    "g = lambda x:3*x+1"
   ]
  },
  {
   "cell_type": "code",
   "execution_count": 5,
   "metadata": {},
   "outputs": [
    {
     "data": {
      "text/plain": [
       "7"
      ]
     },
     "execution_count": 5,
     "metadata": {},
     "output_type": "execute_result"
    }
   ],
   "source": [
    "g(2)"
   ]
  },
  {
   "cell_type": "markdown",
   "metadata": {},
   "source": [
    " Now, you can use this like any other function. If you input 2, you still get 7."
   ]
  },
  {
   "cell_type": "markdown",
   "metadata": {},
   "source": [
    "Let us now see a lambda expression with more than one inputs. Suppose you are processing user data from web registration form and would like to combine the first and last name into a signle full name for displaying on the user interface.\n",
    "\n",
    "We will call this lambda expression full name. \n",
    "This anonymous function ‘fullname’ ,this anonymous function have 2 inputs ‘fn’ and ‘ln’.We will remove the leading and trailing whitespace with strip function. We will also ensure that only the first letter of each string is capitalized with the title function. We will also separate the first and the last name with the white space.\n"
   ]
  },
  {
   "cell_type": "code",
   "execution_count": 6,
   "metadata": {},
   "outputs": [],
   "source": [
    "fullname = lambda fn,ln: fn.strip().title() +\" \"+ln.strip().title()\n"
   ]
  },
  {
   "cell_type": "code",
   "execution_count": 7,
   "metadata": {},
   "outputs": [
    {
     "data": {
      "text/plain": [
       "'Firstname Lastname'"
      ]
     },
     "execution_count": 7,
     "metadata": {},
     "output_type": "execute_result"
    }
   ],
   "source": [
    "fullname(\"   firstname\",\"LASTNAME  \")"
   ]
  },
  {
   "cell_type": "markdown",
   "metadata": {},
   "source": [
    "###### Here’s, the general way to create a lambda expression."
   ]
  },
  {
   "cell_type": "markdown",
   "metadata": {},
   "source": [
    "![title](le.png)"
   ]
  },
  {
   "cell_type": "markdown",
   "metadata": {},
   "source": [
    "Let us see a common use of lambda expressions where, we do not give a name. \n",
    "Suppose we have list of  names.So we have  to create an anonymous function that extracts the last name and uses that as the sorting value. \n",
    "\n",
    "Lists have a built-in method sort.Key argument in sort will be used for sorting. We will pass a lambda expression , to access a last name split the string into pieces where find white space.\n",
    "\n",
    "Next access the last piece by index -1.As a final precaution, convert the string to lowercase. This way, the sorting is not the sorting will not be in case-sensitive.\n"
   ]
  },
  {
   "cell_type": "code",
   "execution_count": 8,
   "metadata": {},
   "outputs": [],
   "source": [
    "name =[\"Mithilesh Yadav\",\"Deepak Kumar Gupta\",\"Sneha Singh\",\"Kishor Lashman Ramiste\",\"Rohit Mohite\"]"
   ]
  },
  {
   "cell_type": "code",
   "execution_count": 9,
   "metadata": {},
   "outputs": [
    {
     "data": {
      "text/plain": [
       "['Mithilesh Yadav',\n",
       " 'Deepak Kumar Gupta',\n",
       " 'Sneha Singh',\n",
       " 'Kishor Lashman Ramiste',\n",
       " 'Rohit Mohite']"
      ]
     },
     "execution_count": 9,
     "metadata": {},
     "output_type": "execute_result"
    }
   ],
   "source": [
    "name"
   ]
  },
  {
   "cell_type": "code",
   "execution_count": 10,
   "metadata": {},
   "outputs": [],
   "source": [
    "name.sort(key=lambda name:name.split(\" \")[-1].lower())"
   ]
  },
  {
   "cell_type": "code",
   "execution_count": 11,
   "metadata": {},
   "outputs": [
    {
     "data": {
      "text/plain": [
       "['Deepak Kumar Gupta',\n",
       " 'Rohit Mohite',\n",
       " 'Kishor Lashman Ramiste',\n",
       " 'Sneha Singh',\n",
       " 'Mithilesh Yadav']"
      ]
     },
     "execution_count": 11,
     "metadata": {},
     "output_type": "execute_result"
    }
   ],
   "source": [
    "name"
   ]
  },
  {
   "cell_type": "markdown",
   "metadata": {},
   "source": [
    "\n",
    "Now let’s go deeper  into it, and create a function ‘quadraticeq’ . The input are three coefficients a,b and c, and with a single line we return anonymous quadratic function with these coefficients\n"
   ]
  },
  {
   "cell_type": "code",
   "execution_count": 12,
   "metadata": {},
   "outputs": [],
   "source": [
    "def quadraticeq(a,b,c):\n",
    "    return lambda x:a*x**2 + b*x +c\n"
   ]
  },
  {
   "cell_type": "code",
   "execution_count": 13,
   "metadata": {},
   "outputs": [],
   "source": [
    "f = quadraticeq(2,4,-5)"
   ]
  },
  {
   "cell_type": "markdown",
   "metadata": {},
   "source": [
    "If  you test this for the input 2 it will return 11."
   ]
  },
  {
   "cell_type": "code",
   "execution_count": 14,
   "metadata": {},
   "outputs": [
    {
     "data": {
      "text/plain": [
       "11"
      ]
     },
     "execution_count": 14,
     "metadata": {},
     "output_type": "execute_result"
    }
   ],
   "source": [
    "f(2)"
   ]
  },
  {
   "cell_type": "markdown",
   "metadata": {},
   "source": [
    "Let’s  make and use a quadratic function without ever giving it a name. Let’s create a different function and then pass in the value 2."
   ]
  },
  {
   "cell_type": "code",
   "execution_count": 15,
   "metadata": {},
   "outputs": [
    {
     "data": {
      "text/plain": [
       "11"
      ]
     },
     "execution_count": 15,
     "metadata": {},
     "output_type": "execute_result"
    }
   ],
   "source": [
    "quadraticeq(2,4,-5)(2) #3x^2+1 evaluated  for x = 2"
   ]
  },
  {
   "cell_type": "markdown",
   "metadata": {},
   "source": [
    "So second code: quadraticeq(2,4,-5)(2)  does the same thing and this is a useful demonstration, but it is not he most readable code. Sometimes, an extra line is perfectly fine.\n",
    "\n",
    "Lambda expressions are quite usefull when you need a shot and throwaway function.Something simple that you will only use once, common applications are sorting and filtering data.\n"
   ]
  },
  {
   "cell_type": "markdown",
   "metadata": {},
   "source": [
    "That's it about Anonymous function. keep learning..."
   ]
  },
  {
   "cell_type": "markdown",
   "metadata": {},
   "source": [
    "# Great Job"
   ]
  }
 ],
 "metadata": {
  "kernelspec": {
   "display_name": "Python 3",
   "language": "python",
   "name": "python3"
  },
  "language_info": {
   "codemirror_mode": {
    "name": "ipython",
    "version": 3
   },
   "file_extension": ".py",
   "mimetype": "text/x-python",
   "name": "python",
   "nbconvert_exporter": "python",
   "pygments_lexer": "ipython3",
   "version": "3.7.1"
  }
 },
 "nbformat": 4,
 "nbformat_minor": 4
}
