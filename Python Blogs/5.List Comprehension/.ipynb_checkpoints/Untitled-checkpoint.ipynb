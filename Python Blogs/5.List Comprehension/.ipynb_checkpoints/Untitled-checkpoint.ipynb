{
 "cells": [
  {
   "cell_type": "markdown",
   "metadata": {},
   "source": [
    "# List comprehension"
   ]
  },
  {
   "cell_type": "markdown",
   "metadata": {},
   "source": [
    "- When coding we spent alot of time in making list. In many languages, it can be tedious create a empty list set up a for loop then add the item to the list one by one.Python gives us tool to simplify this process i.e list comprehension.In most cases list comprehensions let you contrast a list in a single line of code.\n",
    "\n",
    "\n",
    "- In python lists are collection of data surrounded  by square bracket and the elements are commas. A list comprehension is also surrounded by square brackets, but instead of a list of data inside, you enter an expression followed by for loops and  if clauses. \n"
   ]
  },
  {
   "cell_type": "markdown",
   "metadata": {},
   "source": [
    "#### Here ‘s the most basic form of list comprehension."
   ]
  },
  {
   "cell_type": "markdown",
   "metadata": {},
   "source": [
    "- 1.**[expression for value in collection]**\n",
    "\n",
    "- The first expression generates the elements in the list and you we follow this with a for loop over some collection of data.This form will evaluate the expression for every item in the collection .\n"
   ]
  },
  {
   "cell_type": "markdown",
   "metadata": {},
   "source": [
    "- 2.**[expression for value in collection  if < condition >]**\n",
    "\n",
    "- If  we only want to include the expression for certain pieces of data, we can add on an  if-clause after the for loop.The expression will be added to the list only if the if-clause is true.\n"
   ]
  },
  {
   "cell_type": "markdown",
   "metadata": {},
   "source": [
    "- **3.[expression for value in collection  if < condition >  and < condition >]**\n",
    "\n",
    "We can even have more than one if clause, and the expression is in the list only all the if-clauses are true.\n"
   ]
  },
  {
   "cell_type": "markdown",
   "metadata": {},
   "source": [
    "- 4.**[expression for value1 in collection1 and value2 in collection2  ]**\n",
    "\n",
    "- Even we can loop over more than one collections.\n"
   ]
  },
  {
   "cell_type": "markdown",
   "metadata": {},
   "source": [
    "##### For our first example, let’s create a list of squares of  the first 10 integers.Let’s first do this without using list comprehension."
   ]
  },
  {
   "cell_type": "code",
   "execution_count": 1,
   "metadata": {},
   "outputs": [
    {
     "data": {
      "text/plain": [
       "[1, 4, 9, 16, 25, 36, 49, 64, 81, 100]"
      ]
     },
     "execution_count": 1,
     "metadata": {},
     "output_type": "execute_result"
    }
   ],
   "source": [
    "square = []\n",
    "for i in range(1,11):\n",
    "    square.append(i**2)\n",
    "square"
   ]
  },
  {
   "cell_type": "markdown",
   "metadata": {},
   "source": [
    "###### Let’s do this with list compreshension. If  we do this, we get the exact same list but we need only 1 line of code."
   ]
  },
  {
   "cell_type": "code",
   "execution_count": 2,
   "metadata": {},
   "outputs": [
    {
     "data": {
      "text/plain": [
       "[1, 4, 9, 16, 25, 36, 49, 64, 81, 100]"
      ]
     },
     "execution_count": 2,
     "metadata": {},
     "output_type": "execute_result"
    }
   ],
   "source": [
    "square2=[ i**2 for i in range(1,11)]\n",
    "square2"
   ]
  },
  {
   "cell_type": "markdown",
   "metadata": {},
   "source": [
    "###### Let’s now look at the slightly more complex examples, we will create a list of remainders when we divide the first 10 squares by 5, to find the remainder when we devide by 5 use the % operator."
   ]
  },
  {
   "cell_type": "markdown",
   "metadata": {},
   "source": [
    "###### In mathematics, this is the same as,\n",
    "x**2%5 =  x**2 (mod 5)\n"
   ]
  },
  {
   "cell_type": "code",
   "execution_count": 4,
   "metadata": {},
   "outputs": [
    {
     "data": {
      "text/plain": [
       "[1, 4, 4, 1, 0, 1, 4, 4, 1, 0]"
      ]
     },
     "execution_count": 4,
     "metadata": {},
     "output_type": "execute_result"
    }
   ],
   "source": [
    "rem5 =[x**2%5 for x in range(1,11)]\n",
    "rem5"
   ]
  },
  {
   "cell_type": "markdown",
   "metadata": {},
   "source": [
    "###### The list we can see there are only 3 perfect squares mod5 is 0,1,4. Let’s do this again but look at the remainders when we devide the squares by 11."
   ]
  },
  {
   "cell_type": "code",
   "execution_count": 5,
   "metadata": {},
   "outputs": [
    {
     "data": {
      "text/plain": [
       "[1, 4, 9, 5, 3, 3, 5, 9, 4, 1, 0, 1, 4, 9, 5]"
      ]
     },
     "execution_count": 5,
     "metadata": {},
     "output_type": "execute_result"
    }
   ],
   "source": [
    "rem11 =[x**2%11 for x in range(1,16)]\n",
    "rem11"
   ]
  },
  {
   "cell_type": "markdown",
   "metadata": {},
   "source": [
    "###### We see the perfect squares mod 11 are  0,1,3,4,5,9. This example show  you that the expression in the list comprehension can be complex. "
   ]
  },
  {
   "cell_type": "markdown",
   "metadata": {},
   "source": [
    "###### Let’s create a list comprehension that has if-clause, Suppose we have a list of  words and we want to find those word which startswith the letter ‘n’. Let’s how to do it with or with out the list compreshension.\n",
    "\n"
   ]
  },
  {
   "cell_type": "code",
   "execution_count": 6,
   "metadata": {},
   "outputs": [],
   "source": [
    "grammar = [\"is\",\"no\",\"am\",\"not\",\"never\",\"will\",\n",
    "           \"nither\",\"shall\",\"can\", \"could\",\"should\",\n",
    "           \"none\",\"nor\",\"was\",\"were\"]"
   ]
  },
  {
   "cell_type": "markdown",
   "metadata": {},
   "source": [
    "###### If  we are not using list comprehension, we have to start by making empty list and then loop through all the words in the list then use if-clause to check if the word startwith the letter ‘n’ with startswith method and if it does append it in the list."
   ]
  },
  {
   "cell_type": "code",
   "execution_count": 7,
   "metadata": {},
   "outputs": [
    {
     "data": {
      "text/plain": [
       "['no', 'not', 'never', 'nither', 'none', 'nor']"
      ]
     },
     "execution_count": 7,
     "metadata": {},
     "output_type": "execute_result"
    }
   ],
   "source": [
    "negatives =[]\n",
    "for word in grammar:\n",
    "    if word.startswith(\"n\"):\n",
    "        negatives.append(word)\n",
    "        \n",
    "negatives\n"
   ]
  },
  {
   "cell_type": "markdown",
   "metadata": {},
   "source": [
    "###### But this 4 line code can be done in single line of code with list comprehension.The expression we want to be appear in list is simply the word ,next loop over the words in list but also check that the title startwith the letter’n’. Observe we get the same  answer in the single line of code.\n"
   ]
  },
  {
   "cell_type": "code",
   "execution_count": 8,
   "metadata": {},
   "outputs": [
    {
     "data": {
      "text/plain": [
       "['no', 'not', 'never', 'nither', 'none', 'nor']"
      ]
     },
     "execution_count": 8,
     "metadata": {},
     "output_type": "execute_result"
    }
   ],
   "source": [
    "neg = [word for word in grammar if word.startswith(\"n\")]\n",
    "neg\n"
   ]
  },
  {
   "cell_type": "markdown",
   "metadata": {},
   "source": [
    "###### Let’s complicate the example a bit more, suppose we have a list of  tuples containing  the book and the year it released.Our task is it find the books  released after 2000."
   ]
  },
  {
   "cell_type": "code",
   "execution_count": 9,
   "metadata": {},
   "outputs": [],
   "source": [
    "library = [(\"book1\",1995),(\"book2\",2001),\n",
    "           (\"book3\",1996),(\"book4\",2002), \n",
    "           (\"book5\",1997),(\"book6\",2003),\n",
    "           (\"book7\",1998),(\"book8\",2004),\n",
    "           (\"book9\",1999), (\"book10\",2000)]"
   ]
  },
  {
   "cell_type": "markdown",
   "metadata": {},
   "source": [
    "###### As before, we want our list to only contains the books but this time when we write the for loop each elements will be tuple. Next we select the books released after 2000 using an if-clause on the year. In this example, the if block used the year bu the year was not included in the list, only the book in included."
   ]
  },
  {
   "cell_type": "code",
   "execution_count": 10,
   "metadata": {},
   "outputs": [
    {
     "data": {
      "text/plain": [
       "['book2', 'book4', 'book6', 'book8']"
      ]
     },
     "execution_count": 10,
     "metadata": {},
     "output_type": "execute_result"
    }
   ],
   "source": [
    "lib = [book for (book,year)  in library if year>2000]\n",
    "lib\n"
   ]
  },
  {
   "cell_type": "markdown",
   "metadata": {},
   "source": [
    "###### Lets see a mathematical example.Suppose we use a list to represent a vector , "
   ]
  },
  {
   "cell_type": "code",
   "execution_count": 11,
   "metadata": {},
   "outputs": [],
   "source": [
    "v = [2,3,4]"
   ]
  },
  {
   "cell_type": "markdown",
   "metadata": {},
   "source": [
    "###### How would you perform scalar multiplication on this vector i.e what if we want to multiply each by 4, you might be temped to try 4*v but by doing so you are multiplying each element by 4, instead you are replicating the same elements 4 times.\n"
   ]
  },
  {
   "cell_type": "code",
   "execution_count": 12,
   "metadata": {},
   "outputs": [
    {
     "data": {
      "text/plain": [
       "[2, 3, 4, 2, 3, 4, 2, 3, 4, 2, 3, 4]"
      ]
     },
     "execution_count": 12,
     "metadata": {},
     "output_type": "execute_result"
    }
   ],
   "source": [
    "#4*v  = v + v + v + v\n",
    "4*v     #list replication"
   ]
  },
  {
   "cell_type": "markdown",
   "metadata": {},
   "source": [
    "###### We can achive scalar multiplication with list comprehension, just make a list comprehension where you multiply each element by 4."
   ]
  },
  {
   "cell_type": "code",
   "execution_count": 13,
   "metadata": {},
   "outputs": [
    {
     "data": {
      "text/plain": [
       "[8, 12, 16]"
      ]
     },
     "execution_count": 13,
     "metadata": {},
     "output_type": "execute_result"
    }
   ],
   "source": [
    "scalar = [i*4 for i in v]\n",
    "scalar\n"
   ]
  },
  {
   "cell_type": "markdown",
   "metadata": {},
   "source": [
    "- For our final example let’s use a list comprehension to compute the Cartesian product of sets the Cartesian and Cartesian product is named after French scholar Rene Descartes.\n",
    "- Recall that, if  A and B are sets then the Cartesian product is the set of pairs (a,b) where first element ‘a’  is from  A and  second element ‘b’ is from B .\n"
   ]
  },
  {
   "cell_type": "markdown",
   "metadata": {},
   "source": [
    "### AxB = {(a,b) | a∈A , b∈B }"
   ]
  },
  {
   "cell_type": "markdown",
   "metadata": {},
   "source": [
    "Example:\n",
    "- A ={1,3}\n",
    "- B={x,y}\n",
    "- AxB = {(1,x),(1,y),(3,x),(3,y)}\n"
   ]
  },
  {
   "cell_type": "code",
   "execution_count": 14,
   "metadata": {},
   "outputs": [
    {
     "data": {
      "text/plain": [
       "[(1, 2), (1, 4), (1, 6), (3, 2), (3, 4), (3, 6), (5, 2), (5, 4), (5, 6)]"
      ]
     },
     "execution_count": 14,
     "metadata": {},
     "output_type": "execute_result"
    }
   ],
   "source": [
    "A = [1,3,5]\n",
    "B =[2,4,6]\n",
    "cart = [(a,b) for a in A for b in B]\n",
    "cart"
   ]
  },
  {
   "cell_type": "markdown",
   "metadata": {},
   "source": [
    "This was all about List Comprehension.\n",
    "similar to this we can make set and dictionary comprehension too.\n",
    "The only thing will change is, to make set or dictionary comprehension\n",
    "we have to use {} brackets insted of [] brackets."
   ]
  },
  {
   "cell_type": "markdown",
   "metadata": {},
   "source": [
    "# Great Job"
   ]
  }
 ],
 "metadata": {
  "kernelspec": {
   "display_name": "Python 3",
   "language": "python",
   "name": "python3"
  },
  "language_info": {
   "codemirror_mode": {
    "name": "ipython",
    "version": 3
   },
   "file_extension": ".py",
   "mimetype": "text/x-python",
   "name": "python",
   "nbconvert_exporter": "python",
   "pygments_lexer": "ipython3",
   "version": "3.7.1"
  }
 },
 "nbformat": 4,
 "nbformat_minor": 4
}
