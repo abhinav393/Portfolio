{
 "cells": [
  {
   "cell_type": "markdown",
   "metadata": {},
   "source": [
    "# Datatype as a parameter"
   ]
  },
  {
   "cell_type": "markdown",
   "metadata": {},
   "source": [
    "- Now let’s create a function with multiple parameters for example, there’s going to come times like you wanted to build a shoping cart or grocery list program where you don’t exactly know how many things the user is going to have, so you need a way to tell python that I don’t know exactly how many things or element are going to have but I need you to do a certain thing to them.\n",
    "- So to do that let’s create a function named grocerylist and if you wanted to add many things and unknown amount of things, what you need to do is put an astericks before the name of argument.\n"
   ]
  },
  {
   "cell_type": "code",
   "execution_count": 1,
   "metadata": {},
   "outputs": [],
   "source": [
    "def grocerylist(*food):\n",
    "    print(food)\n"
   ]
  },
  {
   "cell_type": "markdown",
   "metadata": {},
   "source": [
    "Alright what actually the astericks does is, whatever we put in for “food” argument instead of  just treating as a single thing, treat it as a tuple. So let’s call this function and add bunch of things to our grocerylist."
   ]
  },
  {
   "cell_type": "code",
   "execution_count": 2,
   "metadata": {},
   "outputs": [
    {
     "name": "stdout",
     "output_type": "stream",
     "text": [
      "('apple', 'bananas', 'vegies', 'and', ' other', ' stuffs')\n"
     ]
    }
   ],
   "source": [
    "grocerylist(\"apple\",\"bananas\",\"vegies\",\"and\",\" other\",\" stuffs\")"
   ]
  },
  {
   "cell_type": "markdown",
   "metadata": {},
   "source": [
    "- As you can see, it not just print out the element but it printed out it as an element in tuple. So now using this astericks we can add many elements to one parameter. \n",
    "- So far we have seen, how to use asterisks with parameters in functions to convert it as tuple, now let’s see how to use askterisks with parameter in functions to convert it as dictionary but instead of using one askterisks we actually use two.\n",
    "\n",
    "- Let’s  say we want to create a function named ‘cart’   for a shopping cart  and to convert it as dictionary we will use askterisks symbol twice.\n"
   ]
  },
  {
   "cell_type": "code",
   "execution_count": 4,
   "metadata": {},
   "outputs": [],
   "source": [
    "def cart(**items):\n",
    "    return items\n"
   ]
  },
  {
   "cell_type": "markdown",
   "metadata": {},
   "source": [
    "- So now let’s call the function and put  some items in there, and any items we put in cart it gets converted to a dictionary and dictionary don’t have single item in it but it has a Key-Value pair.\n",
    "- So that’s what we need for each parameter,  a key or a item and it’s value.Instead of putting apples , we have to put apples = 4 because that’s how many apples you want. \n"
   ]
  },
  {
   "cell_type": "markdown",
   "metadata": {},
   "source": [
    "- Inside your function , whatever comes before the equals sign – is treated as the key of the dictionary and whatever comes after the equals sign is treated as key of the dictionary.\n",
    "- So if we pass apple = 4, then python will treat the ‘apple’  as  the ‘Key’ and ‘4’ as it’s ‘Value’.\n"
   ]
  },
  {
   "cell_type": "code",
   "execution_count": 5,
   "metadata": {},
   "outputs": [
    {
     "data": {
      "text/plain": [
       "{'apple': 4, 'oats': 3, 'rice': 2, 'grapes': 6}"
      ]
     },
     "execution_count": 5,
     "metadata": {},
     "output_type": "execute_result"
    }
   ],
   "source": [
    "cart(apple=4,oats=3,rice=2,grapes=6)"
   ]
  },
  {
   "cell_type": "markdown",
   "metadata": {},
   "source": [
    "- So we can see the output is the dictionary with a key value pairs. So by using double askterisks  with parameter in function we can get a dictionary.\n",
    "\n",
    "- So not only this we can use this dictionary parameters with a normal parameters a also a tuple  parameters combined.\n",
    "\n",
    "- Let’s  suppose we are creating a function named profile for our users with a normal parameters of first name and a last name . We also wanted to know the number of programming languages they know and also at which level they know that language (for example- beginners, imtermidiate, Advance)\n"
   ]
  },
  {
   "cell_type": "code",
   "execution_count": 6,
   "metadata": {},
   "outputs": [],
   "source": [
    "def profile(firstname,lastname,*language,**level):\n",
    "    print(\"Name: \" + firstname + \" \" + lastname)\n",
    "    print(\"Languages: \" , language)\n",
    "    print(\"Level:- \\n\",level)\n"
   ]
  },
  {
   "cell_type": "code",
   "execution_count": 7,
   "metadata": {},
   "outputs": [
    {
     "name": "stdout",
     "output_type": "stream",
     "text": [
      "Name: Aryan Khanna\n",
      "Languages:  ('Python', 'R', 'SQL')\n",
      "Level:- \n",
      " {'Python': 'Intermidiate', 'R': 'Beginer', 'SQL': 'Intermidiate'}\n"
     ]
    }
   ],
   "source": [
    "profile(\"Aryan\",\"Khanna\",\"Python\",\"R\",\"SQL\",Python = \"Intermidiate\",R = \"Beginer\", SQL = \"Intermidiate\")"
   ]
  },
  {
   "cell_type": "markdown",
   "metadata": {},
   "source": [
    "So the firstname and lastname are going to take one parameters each, as we can  see there is no asterisks but since the language parameters has a single asterisks, therefore  it can  take ‘n’  number of  parameter and  make it as a tuple."
   ]
  },
  {
   "cell_type": "markdown",
   "metadata": {},
   "source": [
    "- So after  the lastname whatever we enter, python will automatically throw  it in a tuple . But how python  will know that the tuple ends and the dictionary begins, well this is due to it’s built-in syntax of that equal sign.\n",
    "- So whenever we assigns some values to some variable or arguments with a equal sign like we do in Keyword-arguments or Default-argument, the python automatically gets to know that now that the equal sign cannot be used in tuple, and must be a dictionary. Therefore python assumes that the tuple is ended since, users has assigned a value to an item.\n",
    "\n",
    "- I would also like show that, we cannot only make tuple or dictionary from function instead we can also gather information in tuples and dictionary to use in functions. Inshort we can also make use of preexisting tuples and dictionary and pass it as a parameters in functions.\n",
    "- Let’s take the same example as we took previous and let’s create a tuple named language and dictionary named level and pass in our profile function.\n"
   ]
  },
  {
   "cell_type": "code",
   "execution_count": 8,
   "metadata": {},
   "outputs": [
    {
     "name": "stdout",
     "output_type": "stream",
     "text": [
      "Name: Aryan Khanna\n",
      "Languages:  ('Python', 'R', 'SQL')\n",
      "Level:- \n",
      " {'Python': 'Intermidiate', 'R': 'Beginer', 'SQL': 'Intermidiate'}\n"
     ]
    }
   ],
   "source": [
    "var1 = ('Python', 'R', 'SQL')\n",
    "var2 = {'Python': 'Intermidiate', 'R': 'Beginer', 'SQL': 'Intermidiate'}\n",
    "profile(\"Aryan\",\"Khanna\",*var1,**var2)"
   ]
  },
  {
   "cell_type": "markdown",
   "metadata": {},
   "source": [
    "You can see we get the same output and notice I have used single asterisks before passing tuple variable and double asterisks before passing dictionary variable, just like we create in functions."
   ]
  },
  {
   "cell_type": "markdown",
   "metadata": {},
   "source": [
    "Thats all for now, we have many more things to know about functions.\n",
    "Keep learning."
   ]
  },
  {
   "cell_type": "markdown",
   "metadata": {},
   "source": [
    "# Great Job"
   ]
  }
 ],
 "metadata": {
  "kernelspec": {
   "display_name": "Python 3",
   "language": "python",
   "name": "python3"
  },
  "language_info": {
   "codemirror_mode": {
    "name": "ipython",
    "version": 3
   },
   "file_extension": ".py",
   "mimetype": "text/x-python",
   "name": "python",
   "nbconvert_exporter": "python",
   "pygments_lexer": "ipython3",
   "version": "3.7.1"
  }
 },
 "nbformat": 4,
 "nbformat_minor": 4
}
