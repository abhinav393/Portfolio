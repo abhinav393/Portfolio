{
 "cells": [
  {
   "cell_type": "markdown",
   "metadata": {},
   "source": [
    "# Functions in Python."
   ]
  },
  {
   "cell_type": "markdown",
   "metadata": {},
   "source": [
    "###### A function is a block of organized, reusable sets of instructions that is used to perform to some related actions"
   ]
  },
  {
   "cell_type": "markdown",
   "metadata": {},
   "source": [
    "- Why do we have functions?\n",
    "  - Re-usability of code minimizes redundancy\n",
    "  - Procedural decomposition make things organized.\n",
    "\n",
    "- There are mainly two types i.e\n",
    "  - Built-in function\n",
    "  - User defined function\n"
   ]
  },
  {
   "cell_type": "markdown",
   "metadata": {},
   "source": [
    "###### Built-in Functions:\n",
    "- Built in functions are all those function and methods that we have used till now.\n",
    "- The Python interpreter has a number of functions and types built into it that are always available.\n",
    "- Here are some pythons built in functions.\n"
   ]
  },
  {
   "cell_type": "markdown",
   "metadata": {},
   "source": [
    "print()\tinput()\tlen()\tint()\tstr()\tfloat()\n",
    "set()\tdict()\tlist()\tMap()\tFilter()\tReduce()\n",
    "max()\tMin()\tAbs()\tid()\trange()\tDir()\n",
    "Hex()\tHelp()\tFormat()\tRound()\tSlice()\tSorted()\n",
    "Zip()\tVar()\tType()\tTuple()\tSum()\tOct()\n",
    "Iter()\tEval()\tComplex()\tCompile()\tBytes()\tBin()\n"
   ]
  },
  {
   "cell_type": "markdown",
   "metadata": {},
   "source": [
    "- There are many more built in functions but these are some commonly used ones"
   ]
  },
  {
   "cell_type": "markdown",
   "metadata": {},
   "source": [
    "### User defined function: \n",
    "- User defined function is by the name itself it means it is defined by user to make code more easy ,short and effective.\n",
    "- Functions enables us to reuse logic an infinite number of  times without the codes.\n"
   ]
  },
  {
   "cell_type": "markdown",
   "metadata": {},
   "source": [
    "**Syntax:**\n",
    "- def function_name(arg1,arg2,arg3,…):\n",
    "     - statements\n",
    "     - return expression\n"
   ]
  },
  {
   "cell_type": "markdown",
   "metadata": {},
   "source": [
    "- To define a function we must use the keyword def followed by the name of the number followed parentheses. \n",
    "- Inside these parentheses we can list the input to the function.Another name for inputs is arguments.\n",
    "- So lets say this function has zero or no argument , next type a colon and press enter.\n",
    "- The colon  is how your start a new code block in python for our first function we will keep things simple.\n",
    "- We will use keyword pass, the word pass is how you tell python to skip this line and do nothing.\n",
    "- Notice that we indented the code, in python we group code by indentation.\n"
   ]
  },
  {
   "cell_type": "code",
   "execution_count": 2,
   "metadata": {},
   "outputs": [],
   "source": [
    "def f():\n",
    "    pass\n"
   ]
  },
  {
   "cell_type": "markdown",
   "metadata": {},
   "source": [
    "So this is how we created our first function, but does it work?  To call the function, type the name and parentheses."
   ]
  },
  {
   "cell_type": "code",
   "execution_count": 3,
   "metadata": {},
   "outputs": [],
   "source": [
    "f()"
   ]
  },
  {
   "cell_type": "markdown",
   "metadata": {},
   "source": [
    "The function f did nothing as we told this function to do.By the way, look what happens if you forget to type parentheses, withour parentheses , python displays that f is a function and also gives its memory address."
   ]
  },
  {
   "cell_type": "code",
   "execution_count": 4,
   "metadata": {},
   "outputs": [
    {
     "data": {
      "text/plain": [
       "<function __main__.f()>"
      ]
     },
     "execution_count": 4,
     "metadata": {},
     "output_type": "execute_result"
    }
   ],
   "source": [
    "f"
   ]
  },
  {
   "cell_type": "markdown",
   "metadata": {},
   "source": [
    "\n",
    "It is interesting but now very helpful , we need to call the function by its name followed by parentheses.\n"
   ]
  },
  {
   "cell_type": "markdown",
   "metadata": {},
   "source": [
    "###### Now we will write a function that actually does something, \n",
    "- we will start with d-e-f. \n",
    "- We will name this function as greetings. \n",
    "- Next, list the arguments inside parentheses.\n",
    "- This function will have zero arguments. \n",
    "- Finally, type colon and press enter.\n",
    "- Function in python can return values.\n",
    "- To return a  values, type the word “return”  and then the oject.\n",
    "- This function will return the string “Hey There Hello world.”\n",
    "- Return values are optional, you are under no  obligation to return something.\n"
   ]
  },
  {
   "cell_type": "code",
   "execution_count": 5,
   "metadata": {},
   "outputs": [],
   "source": [
    "def greetings():\n",
    "    return \"hey there, hello world.\""
   ]
  },
  {
   "cell_type": "code",
   "execution_count": 6,
   "metadata": {},
   "outputs": [
    {
     "data": {
      "text/plain": [
       "'hey there, hello world.'"
      ]
     },
     "execution_count": 6,
     "metadata": {},
     "output_type": "execute_result"
    }
   ],
   "source": [
    "greetings()"
   ]
  },
  {
   "cell_type": "markdown",
   "metadata": {},
   "source": [
    "We can also store a function into a variable"
   ]
  },
  {
   "cell_type": "code",
   "execution_count": 7,
   "metadata": {},
   "outputs": [
    {
     "data": {
      "text/plain": [
       "'hey there, hello world.'"
      ]
     },
     "execution_count": 7,
     "metadata": {},
     "output_type": "execute_result"
    }
   ],
   "source": [
    "x = greetings()\n",
    "x"
   ]
  },
  {
   "cell_type": "markdown",
   "metadata": {},
   "source": [
    "###### For our next example, we will find out the volume of sphere which is            V =4/3piR3 ,where R is the radius and we know pi =3.14. So we will write a function which will return the volume of a sphere when given the radius."
   ]
  },
  {
   "cell_type": "markdown",
   "metadata": {},
   "source": [
    "###### We are ready to define the vol_of_sphere function. \n",
    "- Type d-e-f  then the name of the function, we will call the function vol_of_sphere. \n",
    "- This function will have a single argument , the radius ‘r’.\n",
    "- Next we compute the volume through the formula. \n",
    "- Notice that we have used decimal for the fraction 4/3 . \n",
    "- This is because in python 2, if you devide on integer by another, it returns the quotient, not the exact value.\n",
    "- Also notice that you use a double asterisk for exponents.\n",
    "- Finally return the volume.\n"
   ]
  },
  {
   "cell_type": "code",
   "execution_count": 9,
   "metadata": {},
   "outputs": [],
   "source": [
    "def vol_of_sphere(r):\n",
    "    v = (4.0/3.0)*3.14*(r**3)\n",
    "    return v"
   ]
  },
  {
   "cell_type": "code",
   "execution_count": 11,
   "metadata": {},
   "outputs": [
    {
     "data": {
      "text/plain": [
       "523.3333333333334"
      ]
     },
     "execution_count": 11,
     "metadata": {},
     "output_type": "execute_result"
    }
   ],
   "source": [
    "vol_of_sphere(5)"
   ]
  },
  {
   "cell_type": "markdown",
   "metadata": {},
   "source": [
    "Because we used an argument when defining the function, you must provide an inpurt when calling it –‘r’ is a required argument. Look what happens if you call ‘volume’ without any argument."
   ]
  },
  {
   "cell_type": "code",
   "execution_count": 12,
   "metadata": {},
   "outputs": [
    {
     "ename": "TypeError",
     "evalue": "vol_of_sphere() missing 1 required positional argument: 'r'",
     "output_type": "error",
     "traceback": [
      "\u001b[1;31m---------------------------------------------------------------------------\u001b[0m",
      "\u001b[1;31mTypeError\u001b[0m                                 Traceback (most recent call last)",
      "\u001b[1;32m<ipython-input-12-088a38b5dc9a>\u001b[0m in \u001b[0;36m<module>\u001b[1;34m\u001b[0m\n\u001b[1;32m----> 1\u001b[1;33m \u001b[0mvol_of_sphere\u001b[0m\u001b[1;33m(\u001b[0m\u001b[1;33m)\u001b[0m\u001b[1;33m\u001b[0m\u001b[1;33m\u001b[0m\u001b[0m\n\u001b[0m",
      "\u001b[1;31mTypeError\u001b[0m: vol_of_sphere() missing 1 required positional argument: 'r'"
     ]
    }
   ],
   "source": [
    "vol_of_sphere()"
   ]
  },
  {
   "cell_type": "markdown",
   "metadata": {},
   "source": [
    "###### You get an error and a reminder to use an argument. "
   ]
  },
  {
   "cell_type": "markdown",
   "metadata": {},
   "source": [
    "###### Now lets Define a function which can compute the area of a triangle which 1/2*base*height.\n",
    "- Start with def  followed by name triangle_area, \n",
    "- to compute the area we need 2 arguments, the base ‘b’ and the height’h’and\n",
    "- finally return the area of the triangle.\n"
   ]
  },
  {
   "cell_type": "code",
   "execution_count": 13,
   "metadata": {},
   "outputs": [
    {
     "data": {
      "text/plain": [
       "9.0"
      ]
     },
     "execution_count": 13,
     "metadata": {},
     "output_type": "execute_result"
    }
   ],
   "source": [
    "def triangle_area(b,h):\n",
    "    return 0.5*b*h\n",
    "\n",
    "triangle_area(3,6)"
   ]
  },
  {
   "cell_type": "markdown",
   "metadata": {},
   "source": [
    "There is no limit to how many arguments you can use in your function but if the number of inputs is too large, you will alienate others and receive and accusing glares."
   ]
  },
  {
   "cell_type": "markdown",
   "metadata": {},
   "source": [
    "Function in python can accept another kind of arguments called “keyword arguments”."
   ]
  },
  {
   "cell_type": "markdown",
   "metadata": {},
   "source": [
    "###### To show how to use these kinds of arguments,\n",
    "- We will write a function which converts a  persons heights from feet and inches to centimeters.\n",
    "- 1 inch = 2.45 cm\n",
    "- 1 foot = 12 inches\n"
   ]
  },
  {
   "cell_type": "markdown",
   "metadata": {},
   "source": [
    "- We will call this function cm , for centimeter. \n",
    "- This  function will accept two arguments, feet and inches.\n",
    "- Notice that these arguments have equal signs after them since we are assigning a default values 0 to each argument. \n",
    "- For this reason, python also calls keyword  arguments, “default”arguments.\n"
   ]
  },
  {
   "cell_type": "code",
   "execution_count": 14,
   "metadata": {},
   "outputs": [],
   "source": [
    "def cm(feet =0, inches=0):\n",
    "    inchestocm = inches * 2.54\n",
    "    feettocm = feet * 12 * 2.54\n",
    "    return inchestocm + feettocm\n"
   ]
  },
  {
   "cell_type": "code",
   "execution_count": 15,
   "metadata": {},
   "outputs": [
    {
     "data": {
      "text/plain": [
       "152.4"
      ]
     },
     "execution_count": 15,
     "metadata": {},
     "output_type": "execute_result"
    }
   ],
   "source": [
    "cm(5)   #by default it will set inches = 0"
   ]
  },
  {
   "cell_type": "code",
   "execution_count": 16,
   "metadata": {},
   "outputs": [
    {
     "data": {
      "text/plain": [
       "152.4"
      ]
     },
     "execution_count": 16,
     "metadata": {},
     "output_type": "execute_result"
    }
   ],
   "source": [
    "cm(5,0)  #feet = 5 ,inches=0"
   ]
  },
  {
   "cell_type": "code",
   "execution_count": 17,
   "metadata": {},
   "outputs": [
    {
     "data": {
      "text/plain": [
       "172.72"
      ]
     },
     "execution_count": 17,
     "metadata": {},
     "output_type": "execute_result"
    }
   ],
   "source": [
    "cm(5,8)  #feet=5,inches =8\n"
   ]
  },
  {
   "cell_type": "code",
   "execution_count": 18,
   "metadata": {},
   "outputs": [
    {
     "data": {
      "text/plain": [
       "172.72"
      ]
     },
     "execution_count": 18,
     "metadata": {},
     "output_type": "execute_result"
    }
   ],
   "source": [
    "#we can also specify inches values as first\n",
    "cm(inches=8,feet=5)\n"
   ]
  },
  {
   "cell_type": "markdown",
   "metadata": {},
   "source": [
    "###### There are 2 types of arguments:\n",
    "- Keyword arguments – which has a equal sign\n",
    "- Required arguments – which does not have a equal sign\n"
   ]
  },
  {
   "cell_type": "markdown",
   "metadata": {},
   "source": [
    "When writing a function we can you both kinds of arguments, but if we do this then the keyword argument must come at last. For example."
   ]
  },
  {
   "cell_type": "code",
   "execution_count": 19,
   "metadata": {},
   "outputs": [
    {
     "ename": "SyntaxError",
     "evalue": "non-default argument follows default argument (<ipython-input-19-76756415651c>, line 1)",
     "output_type": "error",
     "traceback": [
      "\u001b[1;36m  File \u001b[1;32m\"<ipython-input-19-76756415651c>\"\u001b[1;36m, line \u001b[1;32m1\u001b[0m\n\u001b[1;33m    def g(x=0,y):\u001b[0m\n\u001b[1;37m         ^\u001b[0m\n\u001b[1;31mSyntaxError\u001b[0m\u001b[1;31m:\u001b[0m non-default argument follows default argument\n"
     ]
    }
   ],
   "source": [
    "def g(x=0,y):\n",
    "    return x+y\n"
   ]
  },
  {
   "cell_type": "markdown",
   "metadata": {},
   "source": [
    "If we define a function ‘g’ with keyword argument first, we get a syntax error,notice that python calls these ‘default arguments’. This is another name for a keyword argument."
   ]
  },
  {
   "cell_type": "markdown",
   "metadata": {},
   "source": [
    "To fix this , we have to list the non-default arguments first.These are also called required arguments.Since they are required."
   ]
  },
  {
   "cell_type": "code",
   "execution_count": 22,
   "metadata": {},
   "outputs": [],
   "source": [
    "def g(y,x=0):\n",
    "    return x+y"
   ]
  },
  {
   "cell_type": "markdown",
   "metadata": {},
   "source": [
    "To call this function, we must pass in a values for  the required argument.Y The keyword argument is optional since by default it will be set as 0."
   ]
  },
  {
   "cell_type": "code",
   "execution_count": 23,
   "metadata": {},
   "outputs": [
    {
     "data": {
      "text/plain": [
       "5"
      ]
     },
     "execution_count": 23,
     "metadata": {},
     "output_type": "execute_result"
    }
   ],
   "source": [
    "g(5)   #y=5 and by default x is 0"
   ]
  },
  {
   "cell_type": "code",
   "execution_count": 24,
   "metadata": {},
   "outputs": [
    {
     "data": {
      "text/plain": [
       "8"
      ]
     },
     "execution_count": 24,
     "metadata": {},
     "output_type": "execute_result"
    }
   ],
   "source": [
    "g(5,3) #y =5 and x=3"
   ]
  },
  {
   "cell_type": "code",
   "execution_count": 25,
   "metadata": {},
   "outputs": [
    {
     "data": {
      "text/plain": [
       "8"
      ]
     },
     "execution_count": 25,
     "metadata": {},
     "output_type": "execute_result"
    }
   ],
   "source": [
    "#We can also swap the position of argument\n",
    "g(x=3,y=5) #x=3 and y =5 – does the samething as (5,3)\n"
   ]
  },
  {
   "cell_type": "markdown",
   "metadata": {},
   "source": [
    "Thats all for now, Functions in python has many more things that we should know."
   ]
  },
  {
   "cell_type": "markdown",
   "metadata": {},
   "source": [
    "# Great Job"
   ]
  }
 ],
 "metadata": {
  "kernelspec": {
   "display_name": "Python 3",
   "language": "python",
   "name": "python3"
  },
  "language_info": {
   "codemirror_mode": {
    "name": "ipython",
    "version": 3
   },
   "file_extension": ".py",
   "mimetype": "text/x-python",
   "name": "python",
   "nbconvert_exporter": "python",
   "pygments_lexer": "ipython3",
   "version": "3.7.1"
  }
 },
 "nbformat": 4,
 "nbformat_minor": 4
}
