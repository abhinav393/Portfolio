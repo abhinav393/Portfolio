{
  "nbformat": 4,
  "nbformat_minor": 0,
  "metadata": {
    "colab": {
      "name": "Deep_Learning_CNN.ipynb",
      "provenance": [],
      "collapsed_sections": []
    },
    "kernelspec": {
      "name": "python3",
      "display_name": "Python 3"
    }
  },
  "cells": [
    {
      "cell_type": "markdown",
      "metadata": {
        "id": "3DR-eO17geWu",
        "colab_type": "text"
      },
      "source": [
        "# Convolutional Neural Network"
      ]
    },
    {
      "cell_type": "markdown",
      "metadata": {
        "id": "EMefrVPCg-60",
        "colab_type": "text"
      },
      "source": [
        "### Importing the libraries"
      ]
    },
    {
      "cell_type": "code",
      "metadata": {
        "id": "sCV30xyVhFbE",
        "colab_type": "code",
        "colab": {}
      },
      "source": [
        "import tensorflow as tf\n",
        "from keras.preprocessing.image import ImageDataGenerator"
      ],
      "execution_count": 1,
      "outputs": []
    },
    {
      "cell_type": "code",
      "metadata": {
        "id": "FIleuCAjoFD8",
        "colab_type": "code",
        "colab": {
          "base_uri": "https://localhost:8080/",
          "height": 35
        },
        "outputId": "a19d626a-3c1e-4e4c-86f9-7d7791ee931d"
      },
      "source": [
        "tf.__version__"
      ],
      "execution_count": 2,
      "outputs": [
        {
          "output_type": "execute_result",
          "data": {
            "application/vnd.google.colaboratory.intrinsic+json": {
              "type": "string"
            },
            "text/plain": [
              "'2.3.0'"
            ]
          },
          "metadata": {
            "tags": []
          },
          "execution_count": 2
        }
      ]
    },
    {
      "cell_type": "code",
      "metadata": {
        "id": "4UUodGGTYMoa",
        "colab_type": "code",
        "colab": {}
      },
      "source": [
        "#Preprocessing the training set\n",
        "#Augumented Image\n",
        "train_datagen = ImageDataGenerator(\n",
        "    rescale = 1./255,\n",
        "    shear_range = 0.2,\n",
        "    zoom_range = 0.2,\n",
        "    horizontal_flip =True\n",
        ")\n",
        "\n",
        "train_set = train_datagen.flow_from_directory(\n",
        "    'dataset/train',\n",
        "    target_size=(64,64),\n",
        "    batch_size=32,\n",
        "    class_mode='binary'\n",
        ")"
      ],
      "execution_count": null,
      "outputs": []
    },
    {
      "cell_type": "code",
      "metadata": {
        "id": "4p6Pk-_TYMkW",
        "colab_type": "code",
        "colab": {}
      },
      "source": [
        "#Preprocessing the testset\n",
        "test_datagen = ImageDataGenerator(rescale = 1./255)\n",
        "\n",
        "test_set = test_datagen.flow_from_directory(\n",
        "    'dataset/test',\n",
        "    target_size=(64,64),\n",
        "    batch_size=32,\n",
        "    class_mode='binary'\n",
        ")"
      ],
      "execution_count": null,
      "outputs": []
    },
    {
      "cell_type": "code",
      "metadata": {
        "id": "BqVWuCOYYMdj",
        "colab_type": "code",
        "colab": {}
      },
      "source": [
        "#Initialising the CNN\n",
        "cnn = tf.keras.models.Sequential()\n",
        "\n",
        "#Convulation layer\n",
        "cnn.add(tf.keras.layers.Conv2D(filters=32, kernel_size=3, activation='relu', input_shape=[64,64,3]))\n",
        "\n",
        "#Pooling layer\n",
        "cnn.add(tf.keras.layers.MaxPool2D(pool_size=2,strides=2))\n",
        "\n",
        "#Convulation layer2\n",
        "cnn.add(tf.keras.layers.Conv2D(filters=32, kernel_size=3, activation='relu', input_shape=[64,64,3]))\n",
        "\n",
        "#Pooling layer 2\n",
        "cnn.add(tf.keras.layers.MaxPool2D(pool_size=2,strides=2))\n",
        "\n",
        "#Flattening\n",
        "cnn.add(tf.keras.layers(Flatten()))\n"
      ],
      "execution_count": null,
      "outputs": []
    },
    {
      "cell_type": "code",
      "metadata": {
        "id": "bcXXVz01YMaV",
        "colab_type": "code",
        "colab": {}
      },
      "source": [
        "#Full contection\n",
        "conn.add(tf.keras.layers.Dense(units=150, activation='relu'))\n",
        "\n",
        "#Output layer\n",
        "cnn.add(tf.keras.layers.Dense(units=1,activation='sigmoid'))"
      ],
      "execution_count": null,
      "outputs": []
    },
    {
      "cell_type": "code",
      "metadata": {
        "id": "7FkpvzQDYMVE",
        "colab_type": "code",
        "colab": {}
      },
      "source": [
        "#Training the CNN\n",
        "cnn.compile(optimiser='adam',loss='binary_crossentropy', metrics='accuracy')\n",
        "cnn.fit(x=train_set, validation_data=test_set, epochs=25)"
      ],
      "execution_count": null,
      "outputs": []
    },
    {
      "cell_type": "code",
      "metadata": {
        "id": "Zt7MW_fGYMRV",
        "colab_type": "code",
        "colab": {}
      },
      "source": [
        "import numpy as np\n",
        "from keras.preprocessing import image\n",
        "testimage = image.load_img('dataset/dogorcat.jpg')\n",
        "testimage = image.img_to_array(testimage)\n",
        "testimage = extend_dims(testimage,axis=0)\n",
        "\n",
        "result = cnn.predict(testimage)\n",
        "train_set.class_indices\n",
        "\n",
        "if result[0][0]=1:\n",
        "  print('Dog')\n",
        "else:\n",
        "  print('Cat')"
      ],
      "execution_count": null,
      "outputs": []
    }
  ]
}